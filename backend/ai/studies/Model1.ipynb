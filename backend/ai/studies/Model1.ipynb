{
 "cells": [
  {
   "cell_type": "markdown",
   "metadata": {},
   "source": [
    "# Études pour le model 1 :"
   ]
  },
  {
   "cell_type": "markdown",
   "metadata": {},
   "source": [
    "Notre étude va se dérouler en plusieurs parties. \n",
    "\n",
    "1. Mise en place d'un modèle de base :\n",
    "\n",
    "    **pre_traitement()**\n",
    "\n",
    "    Entrée : nos csv\n",
    "    \n",
    "    Sortie : Une matrice contenant les données que nous pensons utile pour ce modèle après avoir enlevé les stop_words, la ponctuation et les majuscules.\n",
    "\n",
    "    \n",
    "    **Choix d'un modèle de base**\n",
    "\n",
    "    **genere_embedding()**\n",
    "\n",
    "    Entrée : la sortie de pre_traitement()\n",
    "    \n",
    "    Sortie : stock dans un fichier les embeddings correspondant à nos solutions.\n",
    "\n",
    "    **find_solution()**\n",
    "\n",
    "    Entrée : secteur, description\n",
    "\n",
    "    Sortie : Une liste des meilleures solutions classés dans l'orde. On peut imaginer mettre une limite par exemple distance cos > 0.65\n",
    "\n",
    "    **Tester conso dans gaia**\n",
    "\n",
    "2. Creation d'un Test set \n",
    "\n",
    "    **Creation du test_set**\n",
    "\n",
    "    On génère des description et domaine d'activité en fonction des infos de solution avec GPT4. On génère différent niveau de précision par solution.\n",
    "\n",
    "    **test_model()**\n",
    "\n",
    "    Entrée : find_solution() de notre modèle et test_set.\n",
    "\n",
    "    Sortie : On renvoie une accuracy. On considère que si le modèle prédit la bonne solution dans son top 3 sol, c'est validé.\n",
    "\n",
    "3. Test de différents modèles. L'idée est d'avoir un tableau avec la conso, l'accuracy et le model pour expliquer pourquoi on a pris celui-ci plutôt qu'un autre.\n",
    "\n",
    "    **Faire un tableau de tests**\n",
    "    \n",
    "    Tester différents modèles et type de modèles, Word2Vec, FastText, SentenceTransformers (plusieurs).\n",
    "    \n",
    "    **Test Fine tuning**\n",
    "    \n",
    "    Fine tunner le meilleur pour voir le résultat.\n",
    "\n",
    "    **Si temps, on peut même tenter d'entrainer un modèle sur notre test set avec notre méthode**\n",
    "\n"
   ]
  },
  {
   "cell_type": "markdown",
   "metadata": {},
   "source": [
    "# 1. Mise en place d'un modèle de base"
   ]
  },
  {
   "cell_type": "markdown",
   "metadata": {},
   "source": [
    "## Chargement des données"
   ]
  },
  {
   "cell_type": "markdown",
   "metadata": {},
   "source": [
    "Selection données à utiliser et création dataset :\n",
    "\n",
    "Ici on souhaite récupérer toutes les données pertinentes pour nos solutions et les concaténer afin d'avoir un dataset : [num_sol, données_pertinentes]\n",
    "\n",
    "Voir si on prend plus de données par la suite en ajoutant les technologies."
   ]
  },
  {
   "cell_type": "code",
   "execution_count": 30,
   "metadata": {},
   "outputs": [
    {
     "name": "stdout",
     "output_type": "stream",
     "text": [
      "Requirement already satisfied: pandas in /home/patrice/Documents/Etudes/CY-Tech/Ing2_Sem2_2023-2024/UE7_Projet_DataBattle_IA-Pau/ia-pau-data-battle-mars-2024/backend/venv/lib/python3.11/site-packages (2.2.1)\n",
      "Requirement already satisfied: numpy<2,>=1.23.2 in /home/patrice/Documents/Etudes/CY-Tech/Ing2_Sem2_2023-2024/UE7_Projet_DataBattle_IA-Pau/ia-pau-data-battle-mars-2024/backend/venv/lib/python3.11/site-packages (from pandas) (1.26.4)\n",
      "Requirement already satisfied: python-dateutil>=2.8.2 in /home/patrice/Documents/Etudes/CY-Tech/Ing2_Sem2_2023-2024/UE7_Projet_DataBattle_IA-Pau/ia-pau-data-battle-mars-2024/backend/venv/lib/python3.11/site-packages (from pandas) (2.9.0.post0)\n",
      "Requirement already satisfied: pytz>=2020.1 in /home/patrice/Documents/Etudes/CY-Tech/Ing2_Sem2_2023-2024/UE7_Projet_DataBattle_IA-Pau/ia-pau-data-battle-mars-2024/backend/venv/lib/python3.11/site-packages (from pandas) (2024.1)\n",
      "Requirement already satisfied: tzdata>=2022.7 in /home/patrice/Documents/Etudes/CY-Tech/Ing2_Sem2_2023-2024/UE7_Projet_DataBattle_IA-Pau/ia-pau-data-battle-mars-2024/backend/venv/lib/python3.11/site-packages (from pandas) (2024.1)\n",
      "Requirement already satisfied: six>=1.5 in /home/patrice/Documents/Etudes/CY-Tech/Ing2_Sem2_2023-2024/UE7_Projet_DataBattle_IA-Pau/ia-pau-data-battle-mars-2024/backend/venv/lib/python3.11/site-packages (from python-dateutil>=2.8.2->pandas) (1.16.0)\n"
     ]
    }
   ],
   "source": [
    "!pip install pandas"
   ]
  },
  {
   "cell_type": "code",
   "execution_count": 83,
   "metadata": {},
   "outputs": [
    {
     "name": "stdout",
     "output_type": "stream",
     "text": [
      "      id_solution  \\\n",
      "0               2   \n",
      "1               3   \n",
      "2               4   \n",
      "3               5   \n",
      "4               6   \n",
      "...           ...   \n",
      "1095         1710   \n",
      "1096         1711   \n",
      "1097         1712   \n",
      "1098         1713   \n",
      "1099         1714   \n",
      "\n",
      "                                                                                        titre  \\\n",
      "0                         Installation frigorifique négative de type cascade utilisant du CO2   \n",
      "1                                                           Centrale négative en mode booster   \n",
      "2          Arrêt des compresseurs le week end et lorsque le besoin de refroidissement est nul   \n",
      "3                                              Régulation non électronique sur un compresseur   \n",
      "4                                                  Condenseur frigorifique à haute efficacité   \n",
      "...                                                                                       ...   \n",
      "1095                                  Favoriser la communication digitale au catalogue papier   \n",
      "1096  Remplacer le chauffage des bains au gaz par une solution de production d’eau chaude ENR   \n",
      "1097             Mettre en place des portes sectionnelles pour garder la chaleur dans l’usine   \n",
      "1098                                                 Films anti-chaleur sur les baies vitrées   \n",
      "1099                               Optimiser la production d'eau traitée (osmosé, filtration)   \n",
      "\n",
      "                                                                                                                                                                                                                                                                                                                                                                                                                                                                                                                                                                                                                                                                                                                                                                                                                                                                                                                     definition  \\\n",
      "0                                                                                                                                                                                                                                                                                                                                                                                                                                                                                                                                                                                                                                                                                                                                                                                                             Mise en place d'une installation frigorifique négative de type cascade utilisant du CO2 comme fluide frigorigène.   \n",
      "1                                                                                                                                                                                                                                      Lorsque l'installation a deux centrales frigorifiques, &agrave; basse et moyenne temp&eacute;rature, le mode booster consiste &agrave; injecter le refoulement des compresseurs de froid \"n&eacute;gatif\" dans l'aspiration des compresseurs du cycle \"de froid positif\". De cette mani&egrave;re, le rendement du cycle de frigorifique basse temp&eacute;rature (n&eacute;gatif) est grandement am&eacute;lior&eacute; car la condensation &agrave; tr&egrave;s basse temp&eacute;rature est &eacute;gale &agrave; la temp&eacute;rature d'&eacute;vaporation de la centrale positive. &nbsp; La solution permet aussi de diminuer la quantit&eacute; de tuyauteries utilis&eacute;es.   \n",
      "2     Lorsqu’ils ne sont pas équipés de variation électronique de vitesse, la plupart des groupes frigorifiques fonctionnent en Tout en Rien selon le besoin de refroidissement. Lorsque la température en amont des compresseurs descend sous la consigne, les compresseurs se mettent en marche à leur charge nominale. Ainsi, lorsque le besoin de refroidissement est faible, l’utilisation des compresseurs est limitée. Cependant, lorsque le besoin est nul, il est important d’arrêter complètement la centrale frigorifique pour supprimer les pertes thermique du réseau. Outre l’arrêt manuel des groupes frigorifiques par les équipes du site, il existe plusieurs solutions pour automatiser l’arrêt d’un équipement. Par exemple, des horloges programmables peuvent être installées, des temporisations permettant un arrêt au bout d’un certain temps après que le besoin ait disparu, sont aussi applicables.   \n",
      "3                                                                                                                                                                                                                                                                                                                                                                                                                                                                                                                                                                                                                                                                Les types de régulations changent selon la technologie du compresseur : - Compresseur alternatif : régulation en ouvrant la soupape d'admission d'un des cylindres ou par variation du volume libre. - Compresseur centrifuge : régulation par l'utilisation d   \n",
      "4                                                                                                                                                                                                                                                                                                                                                                                                                                                                                                                                                                                                                                                                                                                                            Mise en place de condenseur à haute efficacité sur une installation frigorifique neuve ou existante. La certification EUROVENT est par exemple garant de la qualité du condenseur.   \n",
      "...                                                                                                                                                                                                                                                                                                                                                                                                                                                                                                                                                                                                                                                                                                                                                                                                                                                                                                                         ...   \n",
      "1095                                                                                                                                                                                                                                                                                                                                                                                                                                                                                                                                                                                                                                                                                                                                                                                                                                                                                                                        NaN   \n",
      "1096                                                                                                                                                                                                                                                                                                                                                                                                                                                                                                                                                                                                                                                                                                                                                                                                                                                                                                                        NaN   \n",
      "1097                                                                                                                                                                                                                                                                                                                                                                                                                                                                                                                                                                                                                                                                                                                                                                                                                                                                                                                        NaN   \n",
      "1098                                                                                                                                                                                                                                                                                                                                                                                                                                                                                                                                                                                                                                                                                                                                                                                                                                                                                                                        NaN   \n",
      "1099                                                                                                                                                                                                                                                                                                                                                                                                                                                                                                                                                                                                                                                                                                                                                                                                                                                                                                                        NaN   \n",
      "\n",
      "                                                                                                                                                                                                                                                                                                                                                                                                                                                                                                                                                                                                                                                                                                                                                                                                                                                                                                                                                                                                                           application  \\\n",
      "0                                                                                                                                                                                                                                                                                                                                                                                                                                                                                                                                                                                                                                                                                                                                                                     Pour être éligible à CEE, la mise en place doit être effectuée par un professionnel et appliquée dans des locaux de commerce de distribution alimentaire de surface de vente inférieure à 5000 m². Comparé aux autres fluides frigorigènes, le CO2 est un fluide   \n",
      "1     La solution est applicable uniquement sur les projets neufs, ou sur les projets de refonte total du syst&egrave;me de production de froid. Pour &ecirc;tre &eacute;ligible la production de froid doit avoir deux niveaux de temp&eacute;rature&nbsp; : Une production de froid positif, dont la temp&eacute;rature de consigne est environ &agrave; 0&deg;C : temp&eacute;rature d'&eacute;vaporation cot&eacute; fluide de -10&deg;C par exemple. Une production de froid n&eacute;gatif, dont la temp&eacute;rature de consigne est bien inf&eacute;rieur &agrave; 0&deg;C : temp&eacute;rature d'&eacute;vaporation de -30 &deg;C par exemple. De plus, le besoin de froid positif doit &ecirc;tre sup&eacute;rieur au besoin de froid n&eacute;gatif. &nbsp; Ces deux niveaux de temp&eacute;rature peuvent par exempe &ecirc;tre retrouv&eacute;s dans les secteurs d'activit&eacute; suivants : Grande et Moyenne Surface de distribution alimentaire (GMS) ; Industrie agroalimentaire ; Chimie et pharmacie, ... &nbsp;   \n",
      "2                                                                                                                                                                                                                                                                                                                                                                                                                                                                                                                                                                                                                                                                                                                                                                                                                     Investir dans un échangeur destiné à sous refroidir si la puissance est trop petite. Mettre en place une horloge de programmation hebdomadaire pour couper les compresseurs pendant les périodes d'inoccupation.   \n",
      "3                                                                                                                                                                                                                                                                                                                                                                                                                                                                                                                                                                                                                                                                                                                                                                      Il convient d'optimiser l'ensemble du système avant de considérer cette option d'économie d'énergie car la charge, et donc le besoin peut varier avec les précédentes modifications (réseau particulièrement) L'utilisation de systèmes de stockage à glace est   \n",
      "4                                                                                                                                                                                                                                                                                                                                                                                                                                                                                                                                                                                                                Les condenseurs évaporatifs sont plus efficaces car ils utilisent la chaleur latente pour évacuer la chaleur.La plupart des systèmes réfrigérants utilisent des condenseurs refroidis à l’air pour l’évacuation de la chaleur. Les condenseurs à évaporation utilisent un filtre humidifié pour refroidir l’air ambiant lors de son entrée dans le condenseur, accroissant ainsi la capacité d’évacuation de chaleur.   \n",
      "...                                                                                                                                                                                                                                                                                                                                                                                                                                                                                                                                                                                                                                                                                                                                                                                                                                                                                                                                                                                                                                ...   \n",
      "1095                                                                                                                                                                                                                                                                                                                                                                                                                                                                                                                                                                                                                                                                                                                                                                                                                                                                                                                                                                                                                               NaN   \n",
      "1096                                                                                                                                                                                                                                                                                                                                                                                                                                                                                                                                                                                                                                                                                                                                                                                                                                                                                                                                                                                                                               NaN   \n",
      "1097                                                                                                                                                                                                                                                                                                                                                                                                                                                                                                                                                                                                                                                                                                                                                                                                                                                                                                                                                                                                                               NaN   \n",
      "1098                                                                                                                                                                                                                                                                                                                                                                                                                                                                                                                                                                                                                                                                                                                                                                                                                                                                                                                                                                                                                               NaN   \n",
      "1099                                                                                                                                                                                                                                                                                                                                                                                                                                                                                                                                                                                                                                                                                                                                                                                                                                                                                                                                                                                                                               NaN   \n",
      "\n",
      "                                                                                                                                                                                                                                                                                                                                                                                                                                                                                                                                                                                                                                                                                                                                                                                                                                                                                                                                                                                                                                                                                                                                    bilan_energie  \n",
      "0                                                                                                                                                                                                                                                                                                                                                                                                                                                                                                                                                                                                                                                                                                                                                                                                                                                                                                                                                                                                                                                                                                                                             NaN  \n",
      "1                                                                                                                                                                                                                                                                                                                                                                                                                                                                                                                                                                                                                                                                                                                                                                                                                                                                                                                                                                                                                                                                                                                                             NaN  \n",
      "2                                                                                                                                                                                                                                                                                                                                                                                                                                                                                                                                                                                                                                                                                                                         Plus le réseau de distribution est étendu, plus les pertes sont importantes. Les compresseurs fonctionneront inutilement pour les compenser. Par ailleurs, lorsque le besoin est faible, des surconsommations peuvent venir des temporisations sur les compresseurs. Celles-ci les maintiennent en fonctionnement afin d’éviter des cycles démarrage/arrête trop rapides pouvant endommager ces derniers. &nbsp; &nbsp;  \n",
      "3                                                                                                                                                                                                                                                                                                                                                                                                                                                                                                                                                                                                                                                                                                                                                                                                                                                                                                                                                                                                                                                                                                                                             NaN  \n",
      "4     Un condenseur &agrave; haute efficacit&eacute; &eacute;nerg&eacute;tique est un &eacute;changeur pr&eacute;sentant un faible &eacute;cart de temp&eacute;rature &Delta;T. Le &Delta;T l&rsquo;&eacute;cart de temp&eacute;rature entre le fluide frigorig&egrave;ne &agrave; la pression de condensation et le m&eacute;dium de refroidissement (eau ou air) en entr&eacute;e du condenseur. Abaisser le &Delta;T permet d&rsquo;abaisser la consommation du groupe frigorifique. Efficacit&eacute; de la production frigorifique : Le COP (coefficient de performance d'une machine) correspond au rapport entre la quantit&eacute; de chaleur r&eacute;cup&eacute;r&eacute;e par le condenseur et la quantit&eacute; d'&eacute;nergie &eacute;lectrique totale absorb&eacute;e par l'installation en grande partie du au compresseur mais aussi aux &eacute;quipements suppl&eacute;mentaires (ventilateurs, pompes de circulation d'eau, ...).Des donn&eacute;es constructeurs montrent des valeurs de COP entre de 2,5 &agrave; 5, soit quelque peu sup&eacute;rieures aux moyennes de machines utilisant des condenseurs \"classiques\".  \n",
      "...                                                                                                                                                                                                                                                                                                                                                                                                                                                                                                                                                                                                                                                                                                                                                                                                                                                                                                                                                                                                                                                                                                                                           ...  \n",
      "1095                                                                                                                                                                                                                                                                                                                                                                                                                                                                                                                                                                                                                                                                                                                                                                                                                                                                                                                                                                                                                                                                                                                                          NaN  \n",
      "1096                                                                                                                                                                                                                                                                                                                                                                                                                                                                                                                                                                                                                                                                                                                                                                                                                                                                                                                                                                                                                                                                                                                                          NaN  \n",
      "1097                                                                                                                                                                                                                                                                                                                                                                                                                                                                                                                                                                                                                                                                                                                                                                                                                                                                                                                                                                                                                                                                                                                                          NaN  \n",
      "1098                                                                                                                                                                                                                                                                                                                                                                                                                                                                                                                                                                                                                                                                                                                                                                                                                                                                                                                                                                                                                                                                                                                                          NaN  \n",
      "1099                                                                                                                                                                                                                                                                                                                                                                                                                                                                                                                                                                                                                                                                                                                                                                                                                                                                                                                                                                                                                                                                                                                                          NaN  \n",
      "\n",
      "[1100 rows x 5 columns]\n"
     ]
    }
   ],
   "source": [
    "import pandas as pd\n",
    "\n",
    "# Charger le fichier CSV en spécifiant le séparateur '|'\n",
    "df = pd.read_csv('../data/solutions.csv', sep='|', header=None)\n",
    "\n",
    "# Renommer les colonnes\n",
    "df.columns = ['id_solution', 'categorie', 'texte']\n",
    "\n",
    "# Filtrer les lignes pour les catégories spécifiées\n",
    "categories_specifiees = [1, 2, 5, 6]\n",
    "df_filtre = df[df['categorie'].isin(categories_specifiees)]\n",
    "\n",
    "# Pivoter les données pour obtenir les colonnes 'titre', 'definition', 'application' et 'bilan énergie'\n",
    "df_pivot = df_filtre.pivot(index='id_solution', columns='categorie', values='texte').reset_index()\n",
    "\n",
    "# Renommer les colonnes\n",
    "df_pivot.columns = ['id_solution', 'titre', 'definition', 'application', 'bilan_energie']\n",
    "\n",
    "# Afficher le dataset final\n",
    "# print(df_pivot)"
   ]
  },
  {
   "cell_type": "code",
   "execution_count": 86,
   "metadata": {},
   "outputs": [
    {
     "name": "stdout",
     "output_type": "stream",
     "text": [
      "      id_solution  \\\n",
      "0               2   \n",
      "1               3   \n",
      "2               4   \n",
      "3               5   \n",
      "4               6   \n",
      "...           ...   \n",
      "1095         1710   \n",
      "1096         1711   \n",
      "1097         1712   \n",
      "1098         1713   \n",
      "1099         1714   \n",
      "\n",
      "                                                                                                                                                                                                                                                                                                                                                                                                                                                                                                                                                                                                                                                                                                                                                                                                                                                                                                                                                                                                                                                                                                                                                                                                                                                                                                                                                                                                                                                                                                                                                                                                                                                                                                                                                                                                  text  \n",
      "0                                                                                                                                                                                                                                                                                                                                                                                                                                                                                                                                                                                                                                                                                                                                                                                                                                                                                                                                                                                                                                                                                                                                                                                                                                                                                                                                             Installation frigorifique négative de type cascade utilisant du CO2. Mise en place d'une installation frigorifique négative de type cascade utilisant du CO2 comme fluide frigorigène. Pour être éligible à CEE, la mise en place doit être effectuée par un professionnel et appliquée dans des locaux de commerce de distribution alimentaire de surface de vente inférieure à 5000 m². Comparé aux autres fluides frigorigènes, le CO2 est un fluide.  \n",
      "1                                        Centrale négative en mode booster. Lorsque l'installation a deux centrales frigorifiques, &agrave; basse et moyenne temp&eacute;rature, le mode booster consiste &agrave; injecter le refoulement des compresseurs de froid \"n&eacute;gatif\" dans l'aspiration des compresseurs du cycle \"de froid positif\". De cette mani&egrave;re, le rendement du cycle de frigorifique basse temp&eacute;rature (n&eacute;gatif) est grandement am&eacute;lior&eacute; car la condensation &agrave; tr&egrave;s basse temp&eacute;rature est &eacute;gale &agrave; la temp&eacute;rature d'&eacute;vaporation de la centrale positive. &nbsp; La solution permet aussi de diminuer la quantit&eacute; de tuyauteries utilis&eacute;es. La solution est applicable uniquement sur les projets neufs, ou sur les projets de refonte total du syst&egrave;me de production de froid. Pour &ecirc;tre &eacute;ligible la production de froid doit avoir deux niveaux de temp&eacute;rature&nbsp; : Une production de froid positif, dont la temp&eacute;rature de consigne est environ &agrave; 0&deg;C : temp&eacute;rature d'&eacute;vaporation cot&eacute; fluide de -10&deg;C par exemple. Une production de froid n&eacute;gatif, dont la temp&eacute;rature de consigne est bien inf&eacute;rieur &agrave; 0&deg;C : temp&eacute;rature d'&eacute;vaporation de -30 &deg;C par exemple. De plus, le besoin de froid positif doit &ecirc;tre sup&eacute;rieur au besoin de froid n&eacute;gatif. &nbsp; Ces deux niveaux de temp&eacute;rature peuvent par exempe &ecirc;tre retrouv&eacute;s dans les secteurs d'activit&eacute; suivants : Grande et Moyenne Surface de distribution alimentaire (GMS) ; Industrie agroalimentaire ; Chimie et pharmacie, ... &nbsp;.  \n",
      "2                                                                                                                                              Arrêt des compresseurs le week end et lorsque le besoin de refroidissement est nul. Lorsqu’ils ne sont pas équipés de variation électronique de vitesse, la plupart des groupes frigorifiques fonctionnent en Tout en Rien selon le besoin de refroidissement. Lorsque la température en amont des compresseurs descend sous la consigne, les compresseurs se mettent en marche à leur charge nominale. Ainsi, lorsque le besoin de refroidissement est faible, l’utilisation des compresseurs est limitée. Cependant, lorsque le besoin est nul, il est important d’arrêter complètement la centrale frigorifique pour supprimer les pertes thermique du réseau. Outre l’arrêt manuel des groupes frigorifiques par les équipes du site, il existe plusieurs solutions pour automatiser l’arrêt d’un équipement. Par exemple, des horloges programmables peuvent être installées, des temporisations permettant un arrêt au bout d’un certain temps après que le besoin ait disparu, sont aussi applicables. Investir dans un échangeur destiné à sous refroidir si la puissance est trop petite. Mettre en place une horloge de programmation hebdomadaire pour couper les compresseurs pendant les périodes d'inoccupation. Plus le réseau de distribution est étendu, plus les pertes sont importantes. Les compresseurs fonctionneront inutilement pour les compenser. Par ailleurs, lorsque le besoin est faible, des surconsommations peuvent venir des temporisations sur les compresseurs. Celles-ci les maintiennent en fonctionnement afin d’éviter des cycles démarrage/arrête trop rapides pouvant endommager ces derniers. &nbsp; &nbsp;.  \n",
      "3                                                                                                                                                                                                                                                                                                                                                                                                                                                                                                                                                                                                                                                                                                                                                                                                                                                                                                                                                                                                                                                                                                                                                                                                                     Régulation non électronique sur un compresseur. Les types de régulations changent selon la technologie du compresseur : - Compresseur alternatif : régulation en ouvrant la soupape d'admission d'un des cylindres ou par variation du volume libre. - Compresseur centrifuge : régulation par l'utilisation d. Il convient d'optimiser l'ensemble du système avant de considérer cette option d'économie d'énergie car la charge, et donc le besoin peut varier avec les précédentes modifications (réseau particulièrement) L'utilisation de systèmes de stockage à glace est.  \n",
      "4     Condenseur frigorifique à haute efficacité. Mise en place de condenseur à haute efficacité sur une installation frigorifique neuve ou existante. La certification EUROVENT est par exemple garant de la qualité du condenseur. Les condenseurs évaporatifs sont plus efficaces car ils utilisent la chaleur latente pour évacuer la chaleur.La plupart des systèmes réfrigérants utilisent des condenseurs refroidis à l’air pour l’évacuation de la chaleur. Les condenseurs à évaporation utilisent un filtre humidifié pour refroidir l’air ambiant lors de son entrée dans le condenseur, accroissant ainsi la capacité d’évacuation de chaleur. Un condenseur &agrave; haute efficacit&eacute; &eacute;nerg&eacute;tique est un &eacute;changeur pr&eacute;sentant un faible &eacute;cart de temp&eacute;rature &Delta;T. Le &Delta;T l&rsquo;&eacute;cart de temp&eacute;rature entre le fluide frigorig&egrave;ne &agrave; la pression de condensation et le m&eacute;dium de refroidissement (eau ou air) en entr&eacute;e du condenseur. Abaisser le &Delta;T permet d&rsquo;abaisser la consommation du groupe frigorifique. Efficacit&eacute; de la production frigorifique : Le COP (coefficient de performance d'une machine) correspond au rapport entre la quantit&eacute; de chaleur r&eacute;cup&eacute;r&eacute;e par le condenseur et la quantit&eacute; d'&eacute;nergie &eacute;lectrique totale absorb&eacute;e par l'installation en grande partie du au compresseur mais aussi aux &eacute;quipements suppl&eacute;mentaires (ventilateurs, pompes de circulation d'eau, ...).Des donn&eacute;es constructeurs montrent des valeurs de COP entre de 2,5 &agrave; 5, soit quelque peu sup&eacute;rieures aux moyennes de machines utilisant des condenseurs \"classiques\".  \n",
      "...                                                                                                                                                                                                                                                                                                                                                                                                                                                                                                                                                                                                                                                                                                                                                                                                                                                                                                                                                                                                                                                                                                                                                                                                                                                                                                                                                                                                                                                                                                                                                                                                                                                                                                                                                                                                ...  \n",
      "1095                                                                                                                                                                                                                                                                                                                                                                                                                                                                                                                                                                                                                                                                                                                                                                                                                                                                                                                                                                                                                                                                                                                                                                                                                                                                                                                                                                                                                                                                                                                                                                                                                                                                                                                                          Favoriser la communication digitale au catalogue papier.  \n",
      "1096                                                                                                                                                                                                                                                                                                                                                                                                                                                                                                                                                                                                                                                                                                                                                                                                                                                                                                                                                                                                                                                                                                                                                                                                                                                                                                                                                                                                                                                                                                                                                                                                                                                                                                          Remplacer le chauffage des bains au gaz par une solution de production d’eau chaude ENR.  \n",
      "1097                                                                                                                                                                                                                                                                                                                                                                                                                                                                                                                                                                                                                                                                                                                                                                                                                                                                                                                                                                                                                                                                                                                                                                                                                                                                                                                                                                                                                                                                                                                                                                                                                                                                                                                     Mettre en place des portes sectionnelles pour garder la chaleur dans l’usine.  \n",
      "1098                                                                                                                                                                                                                                                                                                                                                                                                                                                                                                                                                                                                                                                                                                                                                                                                                                                                                                                                                                                                                                                                                                                                                                                                                                                                                                                                                                                                                                                                                                                                                                                                                                                                                                                                                         Films anti-chaleur sur les baies vitrées.  \n",
      "1099                                                                                                                                                                                                                                                                                                                                                                                                                                                                                                                                                                                                                                                                                                                                                                                                                                                                                                                                                                                                                                                                                                                                                                                                                                                                                                                                                                                                                                                                                                                                                                                                                                                                                                                                       Optimiser la production d'eau traitée (osmosé, filtration).  \n",
      "\n",
      "[1100 rows x 2 columns]\n"
     ]
    }
   ],
   "source": [
    "# Ajouter un point à la fin des colonnes si nécessaire\n",
    "colonnes = ['titre', 'definition', 'application', 'bilan_energie']\n",
    "for col in colonnes:\n",
    "    df_pivot[col] = df_pivot[col].apply(lambda x: x.strip() + '.' if isinstance(x, str) and x.strip()[-1] != '.' else x.strip() if isinstance(x, str) else x)\n",
    "\n",
    "# Gérer les valeurs NaN lors de la fusion des colonnes\n",
    "def combine_text(row):\n",
    "    text_parts = [row[col] for col in colonnes if pd.notnull(row[col])]\n",
    "    return ' '.join(text_parts)\n",
    "\n",
    "# Appliquer la fonction pour créer la nouvelle colonne 'text'\n",
    "df_pivot['text'] = df_pivot.apply(combine_text, axis=1)\n",
    "\n",
    "# Sélectionner uniquement les colonnes 'id_solution' et 'text'\n",
    "df_final = df_pivot[['id_solution', 'text']]\n",
    "\n",
    "# Afficher le DataFrame final\n",
    "print(df_final)"
   ]
  },
  {
   "cell_type": "code",
   "execution_count": 124,
   "metadata": {},
   "outputs": [
    {
     "name": "stdout",
     "output_type": "stream",
     "text": [
      "    id_solution  \\\n",
      "48           54   \n",
      "\n",
      "                                                                                                                                                                                                                                                                                                                                                                                                                                                                                                                                                                                                                                                                                                                                                                                                                                                                                                                                                                                                                                                                                                                                                                                                                                                                                                                                                                                                                                                                                                                                                                                                                                                                                                                                                                                                                                                                                                                                                                                      text  \\\n",
      "48  Moteur à haut rendement. Il existe plusieurs catégories de performance des moteurs selon leur rendement, qui s'appellent IE1 et IE2 en Europe. Depuis mi 2011, les nouveaux moteurs doivent être au minimum de classe IE2. Les constructeurs développent des moteurs répondant aux classes IE3 (obligatoire à partir de 2015 et 2017) et IE4 (Super Premium). Comparés aux moteurs standards, les moteurs à haut rendement ont été travaillés pour diminuer les pertes internes aux moteurs. Selon les classes de performance, cette réduction peut aller jusqu’à 45 %. Hors rupture de technologie, les moteurs à haut rendement sont de même taille et ont une augmentation de poids d’environ 15 %. Plus la puissance du moteur est faible, plus le gain sur le rendement du moteur est important. Pour autant, l’utilisation de moteurs à haut rendement sur de fortes puissances est aussi intéressante car, si le pourcentage d’augmentation est plus faible, il concerne une puissance plus importante. Sur la durée de vie totale du moteur, les économies sont importantes. La consommation des moteurs électriques représente 72 % de la consommation totale d’électricité dans l’industrie en France.Elle représente 1/3 de la consommation électrique du secteur tertiaire. Des moteurs à haut rendement existent pour toutes les gammes de puissance ; les gains de rendement seront plus importants pour des petites puissances. L’énergie représente 96 % du coût global d’un moteur sur sa durée de vie. Les moteurs à haut rendement ont été travaillés pour que les pertes internes soient diminuées. Pour un moteur asynchrone, les pertes sont les suivantes : Pfe et Pb : pertes fer et pertes dues au balais du moteur Pr et Ps : pertes dans les enroulements du rotor et du stator Pfw : pertes par frottements des paliers et frottement de l’air dans la machine PLL : pertes supplémentaires en charge incluant les pertes par courant de Foucault. &nbsp;.   \n",
      "\n",
      "                                                                                                                                                                                                                                                                                                                                                                                                                                                                                                                                                                                                                                                                                                                                                                                                                                                                                                                                                                                                                                                                                                                                                                                                                                                                                      text_pre_traite  \n",
      "48  moteur haut rendement. exister categorie performance moteur rendement appeler ie1 ie2 europe. mi nouveau moteur minimum classe ie2. constructeur developper moteur reponder classe ie3 obligatoire partir ie4 super premium. compare moteur standard moteur haut rendement ete travaille diminuer perte interne moteur. classe performance reduction aller jusqua. rupture technologie moteur haut rendement taille augmentation poids denviron. puissance moteur faible gain rendement moteur important. autant lutilisation moteur haut rendement. fort puissance. interessant pourcentage daugmentation faible concerner puissance important. duree vie total moteur economie important. consommation moteur electrique represente consommation total delectricite lindustrie france. represente consommation electriqu secteur tertiaire. moteur haut rendement existent gamme puissance. gain rendement important petit puissance. lenergie represent. cout global dun moteur duree vie. moteur haut rendement ete travaille perte interne être diminuee. moteur asynchrone perte. pfe problème perte fer perte devoir balai moteur pr ps perte enroulement rotor stator pfw perte frottement palier frottement lair machine pll perte supplementaire charge inclure perte courant foucault.  \n"
     ]
    }
   ],
   "source": [
    "# Configure Pandas pour afficher le contenu complet des cellules\n",
    "pd.set_option('display.max_colwidth', None)\n",
    "\n",
    "# Afficher la solution avec l'ID 2\n",
    "solution_id = df_final[df_final['id_solution'] == 54]\n",
    "print(solution_id)"
   ]
  },
  {
   "cell_type": "markdown",
   "metadata": {},
   "source": [
    "## Pré-traitement et nettoyage des données"
   ]
  },
  {
   "cell_type": "code",
   "execution_count": 46,
   "metadata": {},
   "outputs": [
    {
     "name": "stdout",
     "output_type": "stream",
     "text": [
      "Collecting spacy\n",
      "  Downloading spacy-3.7.4-cp311-cp311-manylinux_2_17_x86_64.manylinux2014_x86_64.whl.metadata (27 kB)\n",
      "Collecting spacy-legacy<3.1.0,>=3.0.11 (from spacy)\n",
      "  Downloading spacy_legacy-3.0.12-py2.py3-none-any.whl.metadata (2.8 kB)\n",
      "Collecting spacy-loggers<2.0.0,>=1.0.0 (from spacy)\n",
      "  Downloading spacy_loggers-1.0.5-py3-none-any.whl.metadata (23 kB)\n",
      "Collecting murmurhash<1.1.0,>=0.28.0 (from spacy)\n",
      "  Downloading murmurhash-1.0.10-cp311-cp311-manylinux_2_5_x86_64.manylinux1_x86_64.manylinux_2_17_x86_64.manylinux2014_x86_64.whl.metadata (2.0 kB)\n",
      "Collecting cymem<2.1.0,>=2.0.2 (from spacy)\n",
      "  Downloading cymem-2.0.8-cp311-cp311-manylinux_2_17_x86_64.manylinux2014_x86_64.whl.metadata (8.4 kB)\n",
      "Collecting preshed<3.1.0,>=3.0.2 (from spacy)\n",
      "  Downloading preshed-3.0.9-cp311-cp311-manylinux_2_5_x86_64.manylinux1_x86_64.manylinux_2_17_x86_64.manylinux2014_x86_64.whl.metadata (2.2 kB)\n",
      "Collecting thinc<8.3.0,>=8.2.2 (from spacy)\n",
      "  Downloading thinc-8.2.3-cp311-cp311-manylinux_2_17_x86_64.manylinux2014_x86_64.whl.metadata (15 kB)\n",
      "Collecting wasabi<1.2.0,>=0.9.1 (from spacy)\n",
      "  Downloading wasabi-1.1.2-py3-none-any.whl.metadata (28 kB)\n",
      "Collecting srsly<3.0.0,>=2.4.3 (from spacy)\n",
      "  Downloading srsly-2.4.8-cp311-cp311-manylinux_2_17_x86_64.manylinux2014_x86_64.whl.metadata (20 kB)\n",
      "Collecting catalogue<2.1.0,>=2.0.6 (from spacy)\n",
      "  Downloading catalogue-2.0.10-py3-none-any.whl.metadata (14 kB)\n",
      "Collecting weasel<0.4.0,>=0.1.0 (from spacy)\n",
      "  Downloading weasel-0.3.4-py3-none-any.whl.metadata (4.7 kB)\n",
      "Collecting typer<0.10.0,>=0.3.0 (from spacy)\n",
      "  Downloading typer-0.9.0-py3-none-any.whl.metadata (14 kB)\n",
      "Collecting smart-open<7.0.0,>=5.2.1 (from spacy)\n",
      "  Downloading smart_open-6.4.0-py3-none-any.whl.metadata (21 kB)\n",
      "Requirement already satisfied: tqdm<5.0.0,>=4.38.0 in /home/patrice/Documents/Etudes/CY-Tech/Ing2_Sem2_2023-2024/UE7_Projet_DataBattle_IA-Pau/ia-pau-data-battle-mars-2024/backend/venv/lib/python3.11/site-packages (from spacy) (4.66.2)\n",
      "Collecting requests<3.0.0,>=2.13.0 (from spacy)\n",
      "  Using cached requests-2.31.0-py3-none-any.whl.metadata (4.6 kB)\n",
      "Requirement already satisfied: pydantic!=1.8,!=1.8.1,<3.0.0,>=1.7.4 in /home/patrice/Documents/Etudes/CY-Tech/Ing2_Sem2_2023-2024/UE7_Projet_DataBattle_IA-Pau/ia-pau-data-battle-mars-2024/backend/venv/lib/python3.11/site-packages (from spacy) (2.6.1)\n",
      "Collecting jinja2 (from spacy)\n",
      "  Using cached Jinja2-3.1.3-py3-none-any.whl.metadata (3.3 kB)\n",
      "Requirement already satisfied: setuptools in /home/patrice/Documents/Etudes/CY-Tech/Ing2_Sem2_2023-2024/UE7_Projet_DataBattle_IA-Pau/ia-pau-data-battle-mars-2024/backend/venv/lib/python3.11/site-packages (from spacy) (65.5.0)\n",
      "Requirement already satisfied: packaging>=20.0 in /home/patrice/Documents/Etudes/CY-Tech/Ing2_Sem2_2023-2024/UE7_Projet_DataBattle_IA-Pau/ia-pau-data-battle-mars-2024/backend/venv/lib/python3.11/site-packages (from spacy) (24.0)\n",
      "Collecting langcodes<4.0.0,>=3.2.0 (from spacy)\n",
      "  Downloading langcodes-3.3.0-py3-none-any.whl.metadata (29 kB)\n",
      "Requirement already satisfied: numpy>=1.19.0 in /home/patrice/Documents/Etudes/CY-Tech/Ing2_Sem2_2023-2024/UE7_Projet_DataBattle_IA-Pau/ia-pau-data-battle-mars-2024/backend/venv/lib/python3.11/site-packages (from spacy) (1.26.4)\n",
      "Requirement already satisfied: annotated-types>=0.4.0 in /home/patrice/Documents/Etudes/CY-Tech/Ing2_Sem2_2023-2024/UE7_Projet_DataBattle_IA-Pau/ia-pau-data-battle-mars-2024/backend/venv/lib/python3.11/site-packages (from pydantic!=1.8,!=1.8.1,<3.0.0,>=1.7.4->spacy) (0.6.0)\n",
      "Requirement already satisfied: pydantic-core==2.16.2 in /home/patrice/Documents/Etudes/CY-Tech/Ing2_Sem2_2023-2024/UE7_Projet_DataBattle_IA-Pau/ia-pau-data-battle-mars-2024/backend/venv/lib/python3.11/site-packages (from pydantic!=1.8,!=1.8.1,<3.0.0,>=1.7.4->spacy) (2.16.2)\n",
      "Requirement already satisfied: typing-extensions>=4.6.1 in /home/patrice/Documents/Etudes/CY-Tech/Ing2_Sem2_2023-2024/UE7_Projet_DataBattle_IA-Pau/ia-pau-data-battle-mars-2024/backend/venv/lib/python3.11/site-packages (from pydantic!=1.8,!=1.8.1,<3.0.0,>=1.7.4->spacy) (4.9.0)\n",
      "Collecting charset-normalizer<4,>=2 (from requests<3.0.0,>=2.13.0->spacy)\n",
      "  Using cached charset_normalizer-3.3.2-cp311-cp311-manylinux_2_17_x86_64.manylinux2014_x86_64.whl.metadata (33 kB)\n",
      "Requirement already satisfied: idna<4,>=2.5 in /home/patrice/Documents/Etudes/CY-Tech/Ing2_Sem2_2023-2024/UE7_Projet_DataBattle_IA-Pau/ia-pau-data-battle-mars-2024/backend/venv/lib/python3.11/site-packages (from requests<3.0.0,>=2.13.0->spacy) (3.6)\n",
      "Collecting urllib3<3,>=1.21.1 (from requests<3.0.0,>=2.13.0->spacy)\n",
      "  Using cached urllib3-2.2.1-py3-none-any.whl.metadata (6.4 kB)\n",
      "Collecting certifi>=2017.4.17 (from requests<3.0.0,>=2.13.0->spacy)\n",
      "  Using cached certifi-2024.2.2-py3-none-any.whl.metadata (2.2 kB)\n",
      "Collecting blis<0.8.0,>=0.7.8 (from thinc<8.3.0,>=8.2.2->spacy)\n",
      "  Downloading blis-0.7.11-cp311-cp311-manylinux_2_17_x86_64.manylinux2014_x86_64.whl.metadata (7.4 kB)\n",
      "Collecting confection<1.0.0,>=0.0.1 (from thinc<8.3.0,>=8.2.2->spacy)\n",
      "  Downloading confection-0.1.4-py3-none-any.whl.metadata (19 kB)\n",
      "Requirement already satisfied: click<9.0.0,>=7.1.1 in /home/patrice/Documents/Etudes/CY-Tech/Ing2_Sem2_2023-2024/UE7_Projet_DataBattle_IA-Pau/ia-pau-data-battle-mars-2024/backend/venv/lib/python3.11/site-packages (from typer<0.10.0,>=0.3.0->spacy) (8.1.7)\n",
      "Collecting cloudpathlib<0.17.0,>=0.7.0 (from weasel<0.4.0,>=0.1.0->spacy)\n",
      "  Downloading cloudpathlib-0.16.0-py3-none-any.whl.metadata (14 kB)\n",
      "Collecting MarkupSafe>=2.0 (from jinja2->spacy)\n",
      "  Using cached MarkupSafe-2.1.5-cp311-cp311-manylinux_2_17_x86_64.manylinux2014_x86_64.whl.metadata (3.0 kB)\n",
      "Downloading spacy-3.7.4-cp311-cp311-manylinux_2_17_x86_64.manylinux2014_x86_64.whl (6.6 MB)\n",
      "\u001b[2K   \u001b[90m━━━━━━━━━━━━━━━━━━━━━━━━━━━━━━━━━━━━━━━━\u001b[0m \u001b[32m6.6/6.6 MB\u001b[0m \u001b[31m6.0 MB/s\u001b[0m eta \u001b[36m0:00:00\u001b[0m00:01\u001b[0m00:01\u001b[0m\n",
      "\u001b[?25hDownloading catalogue-2.0.10-py3-none-any.whl (17 kB)\n",
      "Downloading cymem-2.0.8-cp311-cp311-manylinux_2_17_x86_64.manylinux2014_x86_64.whl (46 kB)\n",
      "\u001b[2K   \u001b[90m━━━━━━━━━━━━━━━━━━━━━━━━━━━━━━━━━━━━━━━━\u001b[0m \u001b[32m46.3/46.3 kB\u001b[0m \u001b[31m3.3 MB/s\u001b[0m eta \u001b[36m0:00:00\u001b[0m\n",
      "\u001b[?25hDownloading langcodes-3.3.0-py3-none-any.whl (181 kB)\n",
      "\u001b[2K   \u001b[90m━━━━━━━━━━━━━━━━━━━━━━━━━━━━━━━━━━━━━━━━\u001b[0m \u001b[32m181.6/181.6 kB\u001b[0m \u001b[31m6.3 MB/s\u001b[0m eta \u001b[36m0:00:00\u001b[0m\n",
      "\u001b[?25hDownloading murmurhash-1.0.10-cp311-cp311-manylinux_2_5_x86_64.manylinux1_x86_64.manylinux_2_17_x86_64.manylinux2014_x86_64.whl (29 kB)\n",
      "Downloading preshed-3.0.9-cp311-cp311-manylinux_2_5_x86_64.manylinux1_x86_64.manylinux_2_17_x86_64.manylinux2014_x86_64.whl (157 kB)\n",
      "\u001b[2K   \u001b[90m━━━━━━━━━━━━━━━━━━━━━━━━━━━━━━━━━━━━━━━━\u001b[0m \u001b[32m157.2/157.2 kB\u001b[0m \u001b[31m5.9 MB/s\u001b[0m eta \u001b[36m0:00:00\u001b[0m\n",
      "\u001b[?25hUsing cached requests-2.31.0-py3-none-any.whl (62 kB)\n",
      "Downloading smart_open-6.4.0-py3-none-any.whl (57 kB)\n",
      "\u001b[2K   \u001b[90m━━━━━━━━━━━━━━━━━━━━━━━━━━━━━━━━━━━━━━━━\u001b[0m \u001b[32m57.0/57.0 kB\u001b[0m \u001b[31m4.0 MB/s\u001b[0m eta \u001b[36m0:00:00\u001b[0m\n",
      "\u001b[?25hDownloading spacy_legacy-3.0.12-py2.py3-none-any.whl (29 kB)\n",
      "Downloading spacy_loggers-1.0.5-py3-none-any.whl (22 kB)\n",
      "Downloading srsly-2.4.8-cp311-cp311-manylinux_2_17_x86_64.manylinux2014_x86_64.whl (490 kB)\n",
      "\u001b[2K   \u001b[90m━━━━━━━━━━━━━━━━━━━━━━━━━━━━━━━━━━━━━━━━\u001b[0m \u001b[32m490.9/490.9 kB\u001b[0m \u001b[31m4.7 MB/s\u001b[0m eta \u001b[36m0:00:00\u001b[0ma \u001b[36m0:00:01\u001b[0m\n",
      "\u001b[?25hDownloading thinc-8.2.3-cp311-cp311-manylinux_2_17_x86_64.manylinux2014_x86_64.whl (920 kB)\n",
      "\u001b[2K   \u001b[90m━━━━━━━━━━━━━━━━━━━━━━━━━━━━━━━━━━━━━━━━\u001b[0m \u001b[32m920.1/920.1 kB\u001b[0m \u001b[31m6.4 MB/s\u001b[0m eta \u001b[36m0:00:00\u001b[0m00:01\u001b[0m00:01\u001b[0m\n",
      "\u001b[?25hDownloading typer-0.9.0-py3-none-any.whl (45 kB)\n",
      "\u001b[2K   \u001b[90m━━━━━━━━━━━━━━━━━━━━━━━━━━━━━━━━━━━━━━━━\u001b[0m \u001b[32m45.9/45.9 kB\u001b[0m \u001b[31m3.2 MB/s\u001b[0m eta \u001b[36m0:00:00\u001b[0m\n",
      "\u001b[?25hDownloading wasabi-1.1.2-py3-none-any.whl (27 kB)\n",
      "Downloading weasel-0.3.4-py3-none-any.whl (50 kB)\n",
      "\u001b[2K   \u001b[90m━━━━━━━━━━━━━━━━━━━━━━━━━━━━━━━━━━━━━━━━\u001b[0m \u001b[32m50.1/50.1 kB\u001b[0m \u001b[31m3.2 MB/s\u001b[0m eta \u001b[36m0:00:00\u001b[0m\n",
      "\u001b[?25hUsing cached Jinja2-3.1.3-py3-none-any.whl (133 kB)\n",
      "Downloading blis-0.7.11-cp311-cp311-manylinux_2_17_x86_64.manylinux2014_x86_64.whl (10.2 MB)\n",
      "\u001b[2K   \u001b[90m━━━━━━━━━━━━━━━━━━━━━━━━━━━━━━━━━━━━━━━━\u001b[0m \u001b[32m10.2/10.2 MB\u001b[0m \u001b[31m2.3 MB/s\u001b[0m eta \u001b[36m0:00:00\u001b[0m00:01\u001b[0m0:01\u001b[0m\n",
      "\u001b[?25hUsing cached certifi-2024.2.2-py3-none-any.whl (163 kB)\n",
      "Using cached charset_normalizer-3.3.2-cp311-cp311-manylinux_2_17_x86_64.manylinux2014_x86_64.whl (140 kB)\n",
      "Downloading cloudpathlib-0.16.0-py3-none-any.whl (45 kB)\n",
      "\u001b[2K   \u001b[90m━━━━━━━━━━━━━━━━━━━━━━━━━━━━━━━━━━━━━━━━\u001b[0m \u001b[32m45.0/45.0 kB\u001b[0m \u001b[31m1.7 MB/s\u001b[0m eta \u001b[36m0:00:00\u001b[0m\n",
      "\u001b[?25hDownloading confection-0.1.4-py3-none-any.whl (35 kB)\n",
      "Using cached MarkupSafe-2.1.5-cp311-cp311-manylinux_2_17_x86_64.manylinux2014_x86_64.whl (28 kB)\n",
      "Using cached urllib3-2.2.1-py3-none-any.whl (121 kB)\n",
      "Installing collected packages: cymem, wasabi, urllib3, typer, spacy-loggers, spacy-legacy, smart-open, murmurhash, MarkupSafe, langcodes, cloudpathlib, charset-normalizer, certifi, catalogue, blis, srsly, requests, preshed, jinja2, confection, weasel, thinc, spacy\n",
      "Successfully installed MarkupSafe-2.1.5 blis-0.7.11 catalogue-2.0.10 certifi-2024.2.2 charset-normalizer-3.3.2 cloudpathlib-0.16.0 confection-0.1.4 cymem-2.0.8 jinja2-3.1.3 langcodes-3.3.0 murmurhash-1.0.10 preshed-3.0.9 requests-2.31.0 smart-open-6.4.0 spacy-3.7.4 spacy-legacy-3.0.12 spacy-loggers-1.0.5 srsly-2.4.8 thinc-8.2.3 typer-0.9.0 urllib3-2.2.1 wasabi-1.1.2 weasel-0.3.4\n"
     ]
    }
   ],
   "source": [
    "!pip install spacy bs4"
   ]
  },
  {
   "cell_type": "code",
   "execution_count": 71,
   "metadata": {},
   "outputs": [
    {
     "name": "stdout",
     "output_type": "stream",
     "text": [
      "Texte original:\n",
      "Ce texte contient des &nbsp;. &nbsp;. balises HTML, des caractères spéciaux comme des accents ééèà, des chiffres 123, et de la ponctuation ! ? Cette phrase a un point. Et une autre test aussi.\n",
      "\n",
      "Texte pré-traité:\n",
      "texte contenir. balise html caractere special accent eeeer chiffre ponctuation. phrase point. test.\n"
     ]
    }
   ],
   "source": [
    "import re\n",
    "import unicodedata\n",
    "import spacy\n",
    "from bs4 import BeautifulSoup\n",
    "from spacy.lang.fr.stop_words import STOP_WORDS\n",
    "\n",
    "# Charger le modèle spaCy pour le français\n",
    "nlp = spacy.load(\"fr_core_news_sm\")\n",
    "\n",
    "def pre_processing(texte):\n",
    "    # Nettoyer HTML Tags\n",
    "    texte = BeautifulSoup(texte, 'html.parser').get_text()\n",
    "\n",
    "    # Remplacer \"&nbsp;.\" par rien\n",
    "    texte = re.sub(r'&nbsp;\\.', '', texte)\n",
    "\n",
    "    # Accents\n",
    "    texte = unicodedata.normalize('NFD', texte).encode('ascii', 'ignore').decode(\"utf-8\")\n",
    "\n",
    "    # Retirer les numéros\n",
    "    texte = re.sub(r'\\b\\d+\\b', '', texte)\n",
    "\n",
    "    # Tokenization, Lemmatization, Removing Stopwords, Lowercase\n",
    "    doc = nlp(texte)\n",
    "    phrases_propres = []\n",
    "    for phrase in doc.sents:\n",
    "        tokens = [token.lemma_.lower() for token in phrase if not token.is_stop and not token.is_punct and not token.is_space]\n",
    "        phrase_propre = ' '.join(tokens)\n",
    "        if phrase_propre:\n",
    "            phrases_propres.append(phrase_propre + \".\")  # Ajouter un point à la fin de la phrase propre\n",
    "\n",
    "    # Joining the cleaned sentences back into a single string\n",
    "    cleaned_text = ' '.join(phrases_propres)\n",
    "\n",
    "    return cleaned_text\n",
    "\n",
    "# Exemple d'utilisation\n",
    "texte_original = \"Ce texte contient des &nbsp;. &nbsp;. balises HTML, des caractères spéciaux comme des accents ééèà, des chiffres 123, et de la ponctuation ! ? Cette phrase a un point. Et une autre test aussi.\"\n",
    "texte_pre_traite = pre_processing(texte_original)\n",
    "print(\"Texte original:\")\n",
    "print(texte_original)\n",
    "print(\"\\nTexte pré-traité:\")\n",
    "print(texte_pre_traite)\n"
   ]
  },
  {
   "cell_type": "code",
   "execution_count": 74,
   "metadata": {},
   "outputs": [
    {
     "name": "stdout",
     "output_type": "stream",
     "text": [
      "Moteur à haut rendement. Il existe plusieurs catégories de performance des moteurs selon leur rendement, qui s'appellent IE1 et IE2 en Europe. Depuis mi 2011, les nouveaux moteurs doivent être au minimum de classe IE2. Les constructeurs développent des moteurs répondant aux classes IE3 (obligatoire à partir de 2015 et 2017) et IE4 (Super Premium). Comparés aux moteurs standards, les moteurs à haut rendement ont été travaillés pour diminuer les pertes internes aux moteurs. Selon les classes de performance, cette réduction peut aller jusqu’à 45 %. Hors rupture de technologie, les moteurs à haut rendement sont de même taille et ont une augmentation de poids d’environ 15 %. Plus la puissance du moteur est faible, plus le gain sur le rendement du moteur est important. Pour autant, l’utilisation de moteurs à haut rendement sur de fortes puissances est aussi intéressante car, si le pourcentage d’augmentation est plus faible, il concerne une puissance plus importante. Sur la durée de vie totale du moteur, les économies sont importantes. La consommation des moteurs électriques représente 72 % de la consommation totale d’électricité dans l’industrie en France.Elle représente 1/3 de la consommation électrique du secteur tertiaire. Des moteurs à haut rendement existent pour toutes les gammes de puissance ; les gains de rendement seront plus importants pour des petites puissances. L’énergie représente 96 % du coût global d’un moteur sur sa durée de vie. Les moteurs à haut rendement ont été travaillés pour que les pertes internes soient diminuées. Pour un moteur asynchrone, les pertes sont les suivantes : Pfe et Pb : pertes fer et pertes dues au balais du moteur Pr et Ps : pertes dans les enroulements du rotor et du stator Pfw : pertes par frottements des paliers et frottement de l’air dans la machine PLL : pertes supplémentaires en charge incluant les pertes par courant de Foucault. &nbsp;.\n",
      "moteur haut rendement. exister categorie performance moteur rendement appeler ie1 ie2 europe. mi nouveau moteur minimum classe ie2. constructeur developper moteur reponder classe ie3 obligatoire partir ie4 super premium. compare moteur standard moteur haut rendement ete travaille diminuer perte interne moteur. classe performance reduction aller jusqua. rupture technologie moteur haut rendement taille augmentation poids denviron. puissance moteur faible gain rendement moteur important. autant lutilisation moteur haut rendement. fort puissance. interessant pourcentage daugmentation faible concerner puissance important. duree vie total moteur economie important. consommation moteur electrique represente consommation total delectricite lindustrie france. represente consommation electriqu secteur tertiaire. moteur haut rendement existent gamme puissance. gain rendement important petit puissance. lenergie represent. cout global dun moteur duree vie. moteur haut rendement ete travaille perte interne être diminuee. moteur asynchrone perte. pfe problème perte fer perte devoir balai moteur pr ps perte enroulement rotor stator pfw perte frottement palier frottement lair machine pll perte supplementaire charge inclure perte courant foucault.\n"
     ]
    }
   ],
   "source": [
    "text_solution = solution_id['text'].iloc[0]\n",
    "print(text_solution)\n",
    "\n",
    "text_pre_traite = pre_processing(text_solution)\n",
    "print(text_pre_traite)"
   ]
  },
  {
   "cell_type": "code",
   "execution_count": 89,
   "metadata": {},
   "outputs": [
    {
     "name": "stderr",
     "output_type": "stream",
     "text": [
      "/tmp/ipykernel_139032/2724334003.py:12: MarkupResemblesLocatorWarning: The input looks more like a filename than markup. You may want to open this file and pass the filehandle into Beautiful Soup.\n",
      "  texte = BeautifulSoup(texte, 'html.parser').get_text()\n"
     ]
    },
    {
     "name": "stdout",
     "output_type": "stream",
     "text": [
      "      id_solution  \\\n",
      "0               2   \n",
      "1               3   \n",
      "2               4   \n",
      "3               5   \n",
      "4               6   \n",
      "...           ...   \n",
      "1095         1710   \n",
      "1096         1711   \n",
      "1097         1712   \n",
      "1098         1713   \n",
      "1099         1714   \n",
      "\n",
      "                                                                                                                                                                                                                                                                                                                                                                                                                                                                                                                                                                                                                                                                                                                                                                                                                                                                                                                                                                                                                                                                                                                        text_pre_traite  \n",
      "0                                                                                                                                                                                                                                                                                                                                                                                                                                                                                                                                                                                                                                                                                                                                                                                                           installation frigorifique negativ type cascade utiliser co2. mise place installation frigorifique negativ type cascade utiliser co2 fluide frigorigene. eligibl cee mise place effectuee professionnel appliquee local commerce distribution alimentaire surface vente inferieure m. compare fluide frigorigene co2 fluide.  \n",
      "1                                                                                                                                                        centrale negativ mode booster. installation centrale frigorifique bas moyenne temperatur mode booster consister injecter refoulement compresseur froid negatif aspiration compresseur cycle froid positif. maniere rendement cycle frigorifique bas temperature negatif grandement ameliore condensation bas temperature egal temperature evaporation central positif. solution diminuer quantite tuyauterie utilisee. solution applicable uniquement projet neuf projet refonte total systeme production froid. eligibl production froid niveau temperature. production froid positif temperature consigne 0c temperature evaporation cote fluide -10c exemple. production froid negatif temperature consigne bien inferieur 0c temperature evaporation c exemple. besoin froid positif superieur besoin froid negatif. niveau temperature exempe retrouve secteur activite grande moyenne surface distribution alimentaire gms. industrie agroalimentaire. chimie pharmacie.  \n",
      "2                                                         arret compresseur week end besoin refroidissement. lorsquil equiper variation electroniqu vitesse plupart groupe frigorifique fonctionnent rien besoin refroidissement. temperature amont compresseur descendre consigne compresseur mettre marche charge nominal. besoin refroidissement faible lutilisation compresseur limitee. besoin important darreter completement central frigorifique supprimer perte thermique reseau. larret manuel groupe frigorifiquer equipe site exister solution automatiser larret dun equipement. exemple horloge programmable installee temporisation permettre arret bout dun temps besoin disparaître applicable. investir echangeur destine refroidir puissance trop petit. mettre place horloge programmation hebdomadaire couper compresseur periode inoccupation. reseau distribution etendu perte important. compresseur fonctionner inutilement compenser. ailleurs besoin faible surconsommation venir temporisation compresseur. maintenir fonctionnement deviter cycle demarrage arrete trop rapide pouvoir endommager dernier.  \n",
      "3                                                                                                                                                                                                                                                                                                                                                                                                                                                                                                                                                                                                                                                                                                                regulation non electroniqu compresseur. type regulation changer technologie compresseur. compresseur alternatif regulation ouvrir soupape admission cylindre variation volume libre. compresseur centrifuge regulation utilisation d.. convier optimiser ensemble systeme considerer option economie energie charge besoin varier precedente modification reseau particulieremer. utilisation systeme stockage glacer.  \n",
      "4     condenseur frigorifique haute efficacite. mise place condenseur haute efficacite installation frigorifique neuf existant. certification eurovent exemple garer qualite condenseur. condenseur evaporatif efficace utiliser chaleur latent evacuer chaleur. plupart systeme refrigerant utiliser condenseur refroidi lair levacuation chaleur. condenseur evaporation utiliser filtre humidifie refroidir lair ambier entree condenseur accroître capacite devacuation chaleur. condenseur haute efficacite energetiqu echangeur presenter faible ecart temperature t. t lecart temperature fluide frigorigen pression condensation medium refroidissement eau air entree condenseur. abaisser t dabaisser consommation groupe frigorifique. efficacite production frigorifique. cop coefficient performance machine correspondre rapport quantite chaleur recupere condenseur quantite energie electriqu total absorbee installation grand partie compresseur equipement supplementaire ventilateur pompe circulation eau. .des donnee. constructeur montrer valeur cop superieure moyenne machine utiliser condenseur classique.  \n",
      "...                                                                                                                                                                                                                                                                                                                                                                                                                                                                                                                                                                                                                                                                                                                                                                                                                                                                                                                                                                                                                                                                                                                                 ...  \n",
      "1095                                                                                                                                                                                                                                                                                                                                                                                                                                                                                                                                                                                                                                                                                                                                                                                                                                                                                                                                                                                                                                                                                  favoriser communication digital catalogue papier.  \n",
      "1096                                                                                                                                                                                                                                                                                                                                                                                                                                                                                                                                                                                                                                                                                                                                                                                                                                                                                                                                                                                                                                                                  remplacer chauffage bain gaz solution production deau chaude enr.  \n",
      "1097                                                                                                                                                                                                                                                                                                                                                                                                                                                                                                                                                                                                                                                                                                                                                                                                                                                                                                                                                                                                                                                                             mettre place porte sectionnelle garder chaleur lusine.  \n",
      "1098                                                                                                                                                                                                                                                                                                                                                                                                                                                                                                                                                                                                                                                                                                                                                                                                                                                                                                                                                                                                                                                                                                     film anti-chaleur baie vitree.  \n",
      "1099                                                                                                                                                                                                                                                                                                                                                                                                                                                                                                                                                                                                                                                                                                                                                                                                                                                                                                                                                                                                                                                                                optimiser production eau traitee osmose filtration.  \n",
      "\n",
      "[1100 rows x 2 columns]\n"
     ]
    },
    {
     "name": "stderr",
     "output_type": "stream",
     "text": [
      "/tmp/ipykernel_139032/2012929047.py:2: SettingWithCopyWarning: \n",
      "A value is trying to be set on a copy of a slice from a DataFrame.\n",
      "Try using .loc[row_indexer,col_indexer] = value instead\n",
      "\n",
      "See the caveats in the documentation: https://pandas.pydata.org/pandas-docs/stable/user_guide/indexing.html#returning-a-view-versus-a-copy\n",
      "  df_final['text_pre_traite'] = df_final['text'].apply(pre_processing)\n"
     ]
    }
   ],
   "source": [
    "# Appliquer le prétraitement sur la colonne 'text'\n",
    "df_final['text_pre_traite'] = df_final['text'].apply(pre_processing)\n",
    "\n",
    "# Afficher le DataFrame avec les textes prétraités\n",
    "print(df_final[['id_solution', 'text_pre_traite']])"
   ]
  },
  {
   "cell_type": "markdown",
   "metadata": {},
   "source": [
    "### Test de mettre ça dans des fonctions"
   ]
  },
  {
   "cell_type": "code",
   "execution_count": 128,
   "metadata": {},
   "outputs": [],
   "source": [
    "import pandas as pd\n",
    "import numpy as np\n",
    "import pickle\n",
    "from sentence_transformers import SentenceTransformer, util\n",
    "from sentence_transformers.quantization import quantize_embeddings\n",
    "\n",
    "# Charger le modèle SentenceTransformer\n",
    "model = SentenceTransformer(\"paraphrase-multilingual-MiniLM-L12-v2\")\n",
    "\n",
    "def calculate_average_embedding(text):\n",
    "    # Diviser le texte en phrases\n",
    "    sentences = [sentence.strip() for sentence in text.split('.') if sentence.strip()]\n",
    "    \n",
    "    # Calculer l'embedding de chaque phrase\n",
    "    sentence_embeddings = model.encode(sentences)\n",
    "    \n",
    "    # Prendre la moyenne des embeddings des phrases\n",
    "    if len(sentence_embeddings) > 0:\n",
    "        average_embedding = np.mean(sentence_embeddings, axis=0)\n",
    "    else:\n",
    "        average_embedding = np.zeros(model.get_sentence_embedding_dimension())\n",
    "    \n",
    "    return average_embedding\n",
    "\n",
    "def genere_embedding(data, output_file, quantize=False, precision=\"binary\"):\n",
    "    # Appliquer la fonction pour calculer l'embedding moyen à chaque texte\n",
    "    embeddings = data['text_pre_traite'].apply(calculate_average_embedding)\n",
    "    \n",
    "    if quantize:\n",
    "        # Quantizer les embeddings si demandé\n",
    "        embeddings = quantize_embeddings(embeddings.tolist(), precision=precision)\n",
    "    \n",
    "    # Créer un nouveau DataFrame avec id_solution et les embeddings\n",
    "    new_data = {\n",
    "        'id_solution': data['id_solution'],\n",
    "        'text_embedding': embeddings\n",
    "    }\n",
    "    \n",
    "    # Créer un DataFrame à partir des nouvelles données\n",
    "    df_embeddings = pd.DataFrame(new_data)\n",
    "    \n",
    "    # Storer les embeddings dans un fichier\n",
    "    with open(output_file, \"wb\") as fOut:\n",
    "        pickle.dump(df_embeddings, fOut, protocol=pickle.HIGHEST_PROTOCOL)\n",
    "    \n",
    "    print(\"Les embeddings ont été storer avec succès.\")\n",
    "\n",
    "def find_solution(text_to_compare, embeddings_file):\n",
    "    # Calculer l'embedding moyen du texte à comparer\n",
    "    embedding_to_compare = calculate_average_embedding(text_to_compare)\n",
    "    \n",
    "    # Charger les embeddings à partir du fichier\n",
    "    with open(embeddings_file, \"rb\") as fIn:\n",
    "        df_embeddings = pickle.load(fIn)\n",
    "    \n",
    "    # Calculer la similarité cosinus entre l'embedding à comparer et les embeddings dans df_embeddings\n",
    "    similarities = util.pytorch_cos_sim(embedding_to_compare.reshape(1, -1), df_embeddings['text_embedding'].values.tolist())\n",
    "    \n",
    "    # Ajouter les similarités au DataFrame df_embeddings\n",
    "    df_embeddings['similarity'] = similarities.flatten()\n",
    "    \n",
    "    # Trier par similarité décroissante\n",
    "    df_sorted = df_embeddings.sort_values(by='similarity', ascending=False)\n",
    "    \n",
    "    # Récupérer les id_solution et les similarités\n",
    "    solution_info = df_sorted[['id_solution', 'similarity']].head(10)\n",
    "    \n",
    "    # Convertir en liste de tuples (id_solution, similarity)\n",
    "    solution_list = list(zip(solution_info['id_solution'], solution_info['similarity']))\n",
    "    \n",
    "    return solution_list\n",
    "\n"
   ]
  },
  {
   "cell_type": "code",
   "execution_count": 131,
   "metadata": {},
   "outputs": [
    {
     "name": "stdout",
     "output_type": "stream",
     "text": [
      "Les embeddings ont été storer avec succès.\n",
      "Les embeddings ont été storer avec succès.\n"
     ]
    }
   ],
   "source": [
    "# Exécuter la fonction pour générer et stocker les embeddings\n",
    "genere_embedding(df_final, \"embeddings.pkl\")\n"
   ]
  },
  {
   "cell_type": "code",
   "execution_count": 130,
   "metadata": {},
   "outputs": [
    {
     "ename": "ValueError",
     "evalue": "Per-column arrays must each be 1-dimensional",
     "output_type": "error",
     "traceback": [
      "\u001b[0;31m---------------------------------------------------------------------------\u001b[0m",
      "\u001b[0;31mValueError\u001b[0m                                Traceback (most recent call last)",
      "Cell \u001b[0;32mIn[130], line 1\u001b[0m\n\u001b[0;32m----> 1\u001b[0m \u001b[43mgenere_embedding\u001b[49m\u001b[43m(\u001b[49m\u001b[43mdf_final\u001b[49m\u001b[43m,\u001b[49m\u001b[43m \u001b[49m\u001b[38;5;124;43m\"\u001b[39;49m\u001b[38;5;124;43membeddings_quantized.pkl\u001b[39;49m\u001b[38;5;124;43m\"\u001b[39;49m\u001b[43m,\u001b[49m\u001b[43m \u001b[49m\u001b[43mquantize\u001b[49m\u001b[38;5;241;43m=\u001b[39;49m\u001b[38;5;28;43;01mTrue\u001b[39;49;00m\u001b[43m,\u001b[49m\u001b[43m \u001b[49m\u001b[43mprecision\u001b[49m\u001b[38;5;241;43m=\u001b[39;49m\u001b[38;5;124;43m\"\u001b[39;49m\u001b[38;5;124;43mbinary\u001b[39;49m\u001b[38;5;124;43m\"\u001b[39;49m\u001b[43m)\u001b[49m\n",
      "Cell \u001b[0;32mIn[128], line 40\u001b[0m, in \u001b[0;36mgenere_embedding\u001b[0;34m(data, output_file, quantize, precision)\u001b[0m\n\u001b[1;32m     34\u001b[0m new_data \u001b[38;5;241m=\u001b[39m {\n\u001b[1;32m     35\u001b[0m     \u001b[38;5;124m'\u001b[39m\u001b[38;5;124mid_solution\u001b[39m\u001b[38;5;124m'\u001b[39m: data[\u001b[38;5;124m'\u001b[39m\u001b[38;5;124mid_solution\u001b[39m\u001b[38;5;124m'\u001b[39m],\n\u001b[1;32m     36\u001b[0m     \u001b[38;5;124m'\u001b[39m\u001b[38;5;124mtext_embedding\u001b[39m\u001b[38;5;124m'\u001b[39m: embeddings\n\u001b[1;32m     37\u001b[0m }\n\u001b[1;32m     39\u001b[0m \u001b[38;5;66;03m# Créer un DataFrame à partir des nouvelles données\u001b[39;00m\n\u001b[0;32m---> 40\u001b[0m df_embeddings \u001b[38;5;241m=\u001b[39m \u001b[43mpd\u001b[49m\u001b[38;5;241;43m.\u001b[39;49m\u001b[43mDataFrame\u001b[49m\u001b[43m(\u001b[49m\u001b[43mnew_data\u001b[49m\u001b[43m)\u001b[49m\n\u001b[1;32m     42\u001b[0m \u001b[38;5;66;03m# Storer les embeddings dans un fichier\u001b[39;00m\n\u001b[1;32m     43\u001b[0m \u001b[38;5;28;01mwith\u001b[39;00m \u001b[38;5;28mopen\u001b[39m(output_file, \u001b[38;5;124m\"\u001b[39m\u001b[38;5;124mwb\u001b[39m\u001b[38;5;124m\"\u001b[39m) \u001b[38;5;28;01mas\u001b[39;00m fOut:\n",
      "File \u001b[0;32m~/Documents/Etudes/CY-Tech/Ing2_Sem2_2023-2024/UE7_Projet_DataBattle_IA-Pau/ia-pau-data-battle-mars-2024/backend/venv/lib/python3.11/site-packages/pandas/core/frame.py:767\u001b[0m, in \u001b[0;36mDataFrame.__init__\u001b[0;34m(self, data, index, columns, dtype, copy)\u001b[0m\n\u001b[1;32m    761\u001b[0m     mgr \u001b[38;5;241m=\u001b[39m \u001b[38;5;28mself\u001b[39m\u001b[38;5;241m.\u001b[39m_init_mgr(\n\u001b[1;32m    762\u001b[0m         data, axes\u001b[38;5;241m=\u001b[39m{\u001b[38;5;124m\"\u001b[39m\u001b[38;5;124mindex\u001b[39m\u001b[38;5;124m\"\u001b[39m: index, \u001b[38;5;124m\"\u001b[39m\u001b[38;5;124mcolumns\u001b[39m\u001b[38;5;124m\"\u001b[39m: columns}, dtype\u001b[38;5;241m=\u001b[39mdtype, copy\u001b[38;5;241m=\u001b[39mcopy\n\u001b[1;32m    763\u001b[0m     )\n\u001b[1;32m    765\u001b[0m \u001b[38;5;28;01melif\u001b[39;00m \u001b[38;5;28misinstance\u001b[39m(data, \u001b[38;5;28mdict\u001b[39m):\n\u001b[1;32m    766\u001b[0m     \u001b[38;5;66;03m# GH#38939 de facto copy defaults to False only in non-dict cases\u001b[39;00m\n\u001b[0;32m--> 767\u001b[0m     mgr \u001b[38;5;241m=\u001b[39m \u001b[43mdict_to_mgr\u001b[49m\u001b[43m(\u001b[49m\u001b[43mdata\u001b[49m\u001b[43m,\u001b[49m\u001b[43m \u001b[49m\u001b[43mindex\u001b[49m\u001b[43m,\u001b[49m\u001b[43m \u001b[49m\u001b[43mcolumns\u001b[49m\u001b[43m,\u001b[49m\u001b[43m \u001b[49m\u001b[43mdtype\u001b[49m\u001b[38;5;241;43m=\u001b[39;49m\u001b[43mdtype\u001b[49m\u001b[43m,\u001b[49m\u001b[43m \u001b[49m\u001b[43mcopy\u001b[49m\u001b[38;5;241;43m=\u001b[39;49m\u001b[43mcopy\u001b[49m\u001b[43m,\u001b[49m\u001b[43m \u001b[49m\u001b[43mtyp\u001b[49m\u001b[38;5;241;43m=\u001b[39;49m\u001b[43mmanager\u001b[49m\u001b[43m)\u001b[49m\n\u001b[1;32m    768\u001b[0m \u001b[38;5;28;01melif\u001b[39;00m \u001b[38;5;28misinstance\u001b[39m(data, ma\u001b[38;5;241m.\u001b[39mMaskedArray):\n\u001b[1;32m    769\u001b[0m     \u001b[38;5;28;01mfrom\u001b[39;00m \u001b[38;5;21;01mnumpy\u001b[39;00m\u001b[38;5;21;01m.\u001b[39;00m\u001b[38;5;21;01mma\u001b[39;00m \u001b[38;5;28;01mimport\u001b[39;00m mrecords\n",
      "File \u001b[0;32m~/Documents/Etudes/CY-Tech/Ing2_Sem2_2023-2024/UE7_Projet_DataBattle_IA-Pau/ia-pau-data-battle-mars-2024/backend/venv/lib/python3.11/site-packages/pandas/core/internals/construction.py:503\u001b[0m, in \u001b[0;36mdict_to_mgr\u001b[0;34m(data, index, columns, dtype, typ, copy)\u001b[0m\n\u001b[1;32m    499\u001b[0m     \u001b[38;5;28;01melse\u001b[39;00m:\n\u001b[1;32m    500\u001b[0m         \u001b[38;5;66;03m# dtype check to exclude e.g. range objects, scalars\u001b[39;00m\n\u001b[1;32m    501\u001b[0m         arrays \u001b[38;5;241m=\u001b[39m [x\u001b[38;5;241m.\u001b[39mcopy() \u001b[38;5;28;01mif\u001b[39;00m \u001b[38;5;28mhasattr\u001b[39m(x, \u001b[38;5;124m\"\u001b[39m\u001b[38;5;124mdtype\u001b[39m\u001b[38;5;124m\"\u001b[39m) \u001b[38;5;28;01melse\u001b[39;00m x \u001b[38;5;28;01mfor\u001b[39;00m x \u001b[38;5;129;01min\u001b[39;00m arrays]\n\u001b[0;32m--> 503\u001b[0m \u001b[38;5;28;01mreturn\u001b[39;00m \u001b[43marrays_to_mgr\u001b[49m\u001b[43m(\u001b[49m\u001b[43marrays\u001b[49m\u001b[43m,\u001b[49m\u001b[43m \u001b[49m\u001b[43mcolumns\u001b[49m\u001b[43m,\u001b[49m\u001b[43m \u001b[49m\u001b[43mindex\u001b[49m\u001b[43m,\u001b[49m\u001b[43m \u001b[49m\u001b[43mdtype\u001b[49m\u001b[38;5;241;43m=\u001b[39;49m\u001b[43mdtype\u001b[49m\u001b[43m,\u001b[49m\u001b[43m \u001b[49m\u001b[43mtyp\u001b[49m\u001b[38;5;241;43m=\u001b[39;49m\u001b[43mtyp\u001b[49m\u001b[43m,\u001b[49m\u001b[43m \u001b[49m\u001b[43mconsolidate\u001b[49m\u001b[38;5;241;43m=\u001b[39;49m\u001b[43mcopy\u001b[49m\u001b[43m)\u001b[49m\n",
      "File \u001b[0;32m~/Documents/Etudes/CY-Tech/Ing2_Sem2_2023-2024/UE7_Projet_DataBattle_IA-Pau/ia-pau-data-battle-mars-2024/backend/venv/lib/python3.11/site-packages/pandas/core/internals/construction.py:114\u001b[0m, in \u001b[0;36marrays_to_mgr\u001b[0;34m(arrays, columns, index, dtype, verify_integrity, typ, consolidate)\u001b[0m\n\u001b[1;32m    111\u001b[0m \u001b[38;5;28;01mif\u001b[39;00m verify_integrity:\n\u001b[1;32m    112\u001b[0m     \u001b[38;5;66;03m# figure out the index, if necessary\u001b[39;00m\n\u001b[1;32m    113\u001b[0m     \u001b[38;5;28;01mif\u001b[39;00m index \u001b[38;5;129;01mis\u001b[39;00m \u001b[38;5;28;01mNone\u001b[39;00m:\n\u001b[0;32m--> 114\u001b[0m         index \u001b[38;5;241m=\u001b[39m \u001b[43m_extract_index\u001b[49m\u001b[43m(\u001b[49m\u001b[43marrays\u001b[49m\u001b[43m)\u001b[49m\n\u001b[1;32m    115\u001b[0m     \u001b[38;5;28;01melse\u001b[39;00m:\n\u001b[1;32m    116\u001b[0m         index \u001b[38;5;241m=\u001b[39m ensure_index(index)\n",
      "File \u001b[0;32m~/Documents/Etudes/CY-Tech/Ing2_Sem2_2023-2024/UE7_Projet_DataBattle_IA-Pau/ia-pau-data-battle-mars-2024/backend/venv/lib/python3.11/site-packages/pandas/core/internals/construction.py:664\u001b[0m, in \u001b[0;36m_extract_index\u001b[0;34m(data)\u001b[0m\n\u001b[1;32m    662\u001b[0m         raw_lengths\u001b[38;5;241m.\u001b[39mappend(\u001b[38;5;28mlen\u001b[39m(val))\n\u001b[1;32m    663\u001b[0m     \u001b[38;5;28;01melif\u001b[39;00m \u001b[38;5;28misinstance\u001b[39m(val, np\u001b[38;5;241m.\u001b[39mndarray) \u001b[38;5;129;01mand\u001b[39;00m val\u001b[38;5;241m.\u001b[39mndim \u001b[38;5;241m>\u001b[39m \u001b[38;5;241m1\u001b[39m:\n\u001b[0;32m--> 664\u001b[0m         \u001b[38;5;28;01mraise\u001b[39;00m \u001b[38;5;167;01mValueError\u001b[39;00m(\u001b[38;5;124m\"\u001b[39m\u001b[38;5;124mPer-column arrays must each be 1-dimensional\u001b[39m\u001b[38;5;124m\"\u001b[39m)\n\u001b[1;32m    666\u001b[0m \u001b[38;5;28;01mif\u001b[39;00m \u001b[38;5;129;01mnot\u001b[39;00m indexes \u001b[38;5;129;01mand\u001b[39;00m \u001b[38;5;129;01mnot\u001b[39;00m raw_lengths:\n\u001b[1;32m    667\u001b[0m     \u001b[38;5;28;01mraise\u001b[39;00m \u001b[38;5;167;01mValueError\u001b[39;00m(\u001b[38;5;124m\"\u001b[39m\u001b[38;5;124mIf using all scalar values, you must pass an index\u001b[39m\u001b[38;5;124m\"\u001b[39m)\n",
      "\u001b[0;31mValueError\u001b[0m: Per-column arrays must each be 1-dimensional"
     ]
    }
   ],
   "source": [
    "genere_embedding(df_final, \"embeddings_quantized.pkl\", quantize=True, precision=\"binary\")"
   ]
  },
  {
   "cell_type": "code",
   "execution_count": 127,
   "metadata": {},
   "outputs": [
    {
     "name": "stdout",
     "output_type": "stream",
     "text": [
      "Les solutions les plus proches :\n",
      "id_solution : 3 | Similarité : 1.0000001192092896\n",
      "id_solution : 42 | Similarité : 0.8587038516998291\n",
      "id_solution : 867 | Similarité : 0.829397439956665\n",
      "id_solution : 19 | Similarité : 0.818574845790863\n",
      "id_solution : 922 | Similarité : 0.8174538016319275\n",
      "id_solution : 35 | Similarité : 0.8152481913566589\n",
      "id_solution : 354 | Similarité : 0.8119463920593262\n",
      "id_solution : 28 | Similarité : 0.8111556768417358\n",
      "id_solution : 918 | Similarité : 0.8091707825660706\n",
      "id_solution : 25 | Similarité : 0.8053005933761597\n"
     ]
    }
   ],
   "source": [
    "# Exemple d'utilisation pour trouver les solutions les plus proches d'un nouveau texte\n",
    "text_to_compare = \"centrale negativ mode booster. installation centrale frigorifique bas moyenne temperatur mode booster consister injecter refoulement compresseur froid negatif aspiration compresseur cycle froid positif. maniere rendement cycle frigorifique bas temperature negatif grandement ameliore condensation bas temperature egal temperature evaporation central positif. solution diminuer quantite tuyauterie utilisee. solution applicable uniquement projet neuf projet refonte total systeme production froid. eligibl production froid niveau temperature. production froid positif temperature consigne 0c temperature evaporation cote fluide -10c exemple. production froid negatif temperature consigne bien inferieur 0c temperature evaporation c exemple. besoin froid positif superieur besoin froid negatif. niveau temperature exempe retrouve secteur activite grande moyenne surface distribution alimentaire gms. industrie agroalimentaire. chimie pharmacie.\"\n",
    "solutions = find_solution(text_to_compare, \"embeddings.pkl\")\n",
    "\n",
    "# Afficher les solutions les plus proches avec leurs similarités\n",
    "print(\"Les solutions les plus proches :\")\n",
    "for solution in solutions:\n",
    "    print(f\"id_solution : {solution[0]}, Similarité : {solution[1]}\")"
   ]
  },
  {
   "cell_type": "code",
   "execution_count": null,
   "metadata": {},
   "outputs": [],
   "source": [
    "# Exemple d'utilisation pour trouver les solutions les plus proches d'un nouveau texte\n",
    "text_to_compare = \"centrale negativ mode booster. installation centrale frigorifique bas moyenne temperatur mode booster consister injecter refoulement compresseur froid negatif aspiration compresseur cycle froid positif. maniere rendement cycle frigorifique bas temperature negatif grandement ameliore condensation bas temperature egal temperature evaporation central positif. solution diminuer quantite tuyauterie utilisee. solution applicable uniquement projet neuf projet refonte total systeme production froid. eligibl production froid niveau temperature. production froid positif temperature consigne 0c temperature evaporation cote fluide -10c exemple. production froid negatif temperature consigne bien inferieur 0c temperature evaporation c exemple. besoin froid positif superieur besoin froid negatif. niveau temperature exempe retrouve secteur activite grande moyenne surface distribution alimentaire gms. industrie agroalimentaire. chimie pharmacie.\"\n",
    "solutions = find_solution(text_to_compare, \"embeddings_quantized.pkl\")\n",
    "\n",
    "# Afficher les solutions les plus proches avec leurs similarités\n",
    "print(\"Les solutions les plus proches :\")\n",
    "for solution in solutions:\n",
    "    print(f\"id_solution : {solution[0]}, Similarité : {solution[1]}\")"
   ]
  },
  {
   "cell_type": "markdown",
   "metadata": {},
   "source": [
    "## Implémentation Sentence Transformers"
   ]
  },
  {
   "cell_type": "markdown",
   "metadata": {},
   "source": [
    "### Choix du modèle\n",
    "\n",
    "S'assurer d'avoir des phrases qui ne dépassent pas la taille du modèle.\n",
    "\n",
    "\n",
    "Ici on a choisi de tester le modèle **paraphrase-multilingual-MiniLM-L12-v2** \n",
    "https://huggingface.co/sentence-transformers/paraphrase-multilingual-MiniLM-L12-v2\n",
    "\n",
    "It maps sentences & paragraphs to a 384 dimensional dense vector space and can be used for tasks like clustering or semantic search.\n",
    "\n",
    "'max_seq_length': 128\n"
   ]
  },
  {
   "cell_type": "code",
   "execution_count": 91,
   "metadata": {},
   "outputs": [
    {
     "name": "stdout",
     "output_type": "stream",
     "text": [
      "Requirement already satisfied: sentence_transformers in /home/patrice/Documents/Etudes/CY-Tech/Ing2_Sem2_2023-2024/UE7_Projet_DataBattle_IA-Pau/ia-pau-data-battle-mars-2024/backend/venv/lib/python3.11/site-packages (2.6.0)\n",
      "Requirement already satisfied: transformers<5.0.0,>=4.32.0 in /home/patrice/Documents/Etudes/CY-Tech/Ing2_Sem2_2023-2024/UE7_Projet_DataBattle_IA-Pau/ia-pau-data-battle-mars-2024/backend/venv/lib/python3.11/site-packages (from sentence_transformers) (4.39.1)\n",
      "Requirement already satisfied: tqdm in /home/patrice/Documents/Etudes/CY-Tech/Ing2_Sem2_2023-2024/UE7_Projet_DataBattle_IA-Pau/ia-pau-data-battle-mars-2024/backend/venv/lib/python3.11/site-packages (from sentence_transformers) (4.66.2)\n",
      "Requirement already satisfied: torch>=1.11.0 in /home/patrice/Documents/Etudes/CY-Tech/Ing2_Sem2_2023-2024/UE7_Projet_DataBattle_IA-Pau/ia-pau-data-battle-mars-2024/backend/venv/lib/python3.11/site-packages (from sentence_transformers) (2.2.1)\n",
      "Requirement already satisfied: numpy in /home/patrice/Documents/Etudes/CY-Tech/Ing2_Sem2_2023-2024/UE7_Projet_DataBattle_IA-Pau/ia-pau-data-battle-mars-2024/backend/venv/lib/python3.11/site-packages (from sentence_transformers) (1.26.4)\n",
      "Requirement already satisfied: scikit-learn in /home/patrice/Documents/Etudes/CY-Tech/Ing2_Sem2_2023-2024/UE7_Projet_DataBattle_IA-Pau/ia-pau-data-battle-mars-2024/backend/venv/lib/python3.11/site-packages (from sentence_transformers) (1.4.1.post1)\n",
      "Requirement already satisfied: scipy in /home/patrice/Documents/Etudes/CY-Tech/Ing2_Sem2_2023-2024/UE7_Projet_DataBattle_IA-Pau/ia-pau-data-battle-mars-2024/backend/venv/lib/python3.11/site-packages (from sentence_transformers) (1.12.0)\n",
      "Requirement already satisfied: huggingface-hub>=0.15.1 in /home/patrice/Documents/Etudes/CY-Tech/Ing2_Sem2_2023-2024/UE7_Projet_DataBattle_IA-Pau/ia-pau-data-battle-mars-2024/backend/venv/lib/python3.11/site-packages (from sentence_transformers) (0.21.4)\n",
      "Requirement already satisfied: Pillow in /home/patrice/Documents/Etudes/CY-Tech/Ing2_Sem2_2023-2024/UE7_Projet_DataBattle_IA-Pau/ia-pau-data-battle-mars-2024/backend/venv/lib/python3.11/site-packages (from sentence_transformers) (10.2.0)\n",
      "Requirement already satisfied: filelock in /home/patrice/Documents/Etudes/CY-Tech/Ing2_Sem2_2023-2024/UE7_Projet_DataBattle_IA-Pau/ia-pau-data-battle-mars-2024/backend/venv/lib/python3.11/site-packages (from huggingface-hub>=0.15.1->sentence_transformers) (3.13.1)\n",
      "Requirement already satisfied: fsspec>=2023.5.0 in /home/patrice/Documents/Etudes/CY-Tech/Ing2_Sem2_2023-2024/UE7_Projet_DataBattle_IA-Pau/ia-pau-data-battle-mars-2024/backend/venv/lib/python3.11/site-packages (from huggingface-hub>=0.15.1->sentence_transformers) (2024.3.1)\n",
      "Requirement already satisfied: requests in /home/patrice/Documents/Etudes/CY-Tech/Ing2_Sem2_2023-2024/UE7_Projet_DataBattle_IA-Pau/ia-pau-data-battle-mars-2024/backend/venv/lib/python3.11/site-packages (from huggingface-hub>=0.15.1->sentence_transformers) (2.31.0)\n",
      "Requirement already satisfied: pyyaml>=5.1 in /home/patrice/Documents/Etudes/CY-Tech/Ing2_Sem2_2023-2024/UE7_Projet_DataBattle_IA-Pau/ia-pau-data-battle-mars-2024/backend/venv/lib/python3.11/site-packages (from huggingface-hub>=0.15.1->sentence_transformers) (6.0.1)\n",
      "Requirement already satisfied: typing-extensions>=3.7.4.3 in /home/patrice/Documents/Etudes/CY-Tech/Ing2_Sem2_2023-2024/UE7_Projet_DataBattle_IA-Pau/ia-pau-data-battle-mars-2024/backend/venv/lib/python3.11/site-packages (from huggingface-hub>=0.15.1->sentence_transformers) (4.9.0)\n",
      "Requirement already satisfied: packaging>=20.9 in /home/patrice/Documents/Etudes/CY-Tech/Ing2_Sem2_2023-2024/UE7_Projet_DataBattle_IA-Pau/ia-pau-data-battle-mars-2024/backend/venv/lib/python3.11/site-packages (from huggingface-hub>=0.15.1->sentence_transformers) (24.0)\n",
      "Requirement already satisfied: sympy in /home/patrice/Documents/Etudes/CY-Tech/Ing2_Sem2_2023-2024/UE7_Projet_DataBattle_IA-Pau/ia-pau-data-battle-mars-2024/backend/venv/lib/python3.11/site-packages (from torch>=1.11.0->sentence_transformers) (1.12)\n",
      "Requirement already satisfied: networkx in /home/patrice/Documents/Etudes/CY-Tech/Ing2_Sem2_2023-2024/UE7_Projet_DataBattle_IA-Pau/ia-pau-data-battle-mars-2024/backend/venv/lib/python3.11/site-packages (from torch>=1.11.0->sentence_transformers) (3.2.1)\n",
      "Requirement already satisfied: jinja2 in /home/patrice/Documents/Etudes/CY-Tech/Ing2_Sem2_2023-2024/UE7_Projet_DataBattle_IA-Pau/ia-pau-data-battle-mars-2024/backend/venv/lib/python3.11/site-packages (from torch>=1.11.0->sentence_transformers) (3.1.3)\n",
      "Requirement already satisfied: nvidia-cuda-nvrtc-cu12==12.1.105 in /home/patrice/Documents/Etudes/CY-Tech/Ing2_Sem2_2023-2024/UE7_Projet_DataBattle_IA-Pau/ia-pau-data-battle-mars-2024/backend/venv/lib/python3.11/site-packages (from torch>=1.11.0->sentence_transformers) (12.1.105)\n",
      "Requirement already satisfied: nvidia-cuda-runtime-cu12==12.1.105 in /home/patrice/Documents/Etudes/CY-Tech/Ing2_Sem2_2023-2024/UE7_Projet_DataBattle_IA-Pau/ia-pau-data-battle-mars-2024/backend/venv/lib/python3.11/site-packages (from torch>=1.11.0->sentence_transformers) (12.1.105)\n",
      "Requirement already satisfied: nvidia-cuda-cupti-cu12==12.1.105 in /home/patrice/Documents/Etudes/CY-Tech/Ing2_Sem2_2023-2024/UE7_Projet_DataBattle_IA-Pau/ia-pau-data-battle-mars-2024/backend/venv/lib/python3.11/site-packages (from torch>=1.11.0->sentence_transformers) (12.1.105)\n",
      "Requirement already satisfied: nvidia-cudnn-cu12==8.9.2.26 in /home/patrice/Documents/Etudes/CY-Tech/Ing2_Sem2_2023-2024/UE7_Projet_DataBattle_IA-Pau/ia-pau-data-battle-mars-2024/backend/venv/lib/python3.11/site-packages (from torch>=1.11.0->sentence_transformers) (8.9.2.26)\n",
      "Requirement already satisfied: nvidia-cublas-cu12==12.1.3.1 in /home/patrice/Documents/Etudes/CY-Tech/Ing2_Sem2_2023-2024/UE7_Projet_DataBattle_IA-Pau/ia-pau-data-battle-mars-2024/backend/venv/lib/python3.11/site-packages (from torch>=1.11.0->sentence_transformers) (12.1.3.1)\n",
      "Requirement already satisfied: nvidia-cufft-cu12==11.0.2.54 in /home/patrice/Documents/Etudes/CY-Tech/Ing2_Sem2_2023-2024/UE7_Projet_DataBattle_IA-Pau/ia-pau-data-battle-mars-2024/backend/venv/lib/python3.11/site-packages (from torch>=1.11.0->sentence_transformers) (11.0.2.54)\n",
      "Requirement already satisfied: nvidia-curand-cu12==10.3.2.106 in /home/patrice/Documents/Etudes/CY-Tech/Ing2_Sem2_2023-2024/UE7_Projet_DataBattle_IA-Pau/ia-pau-data-battle-mars-2024/backend/venv/lib/python3.11/site-packages (from torch>=1.11.0->sentence_transformers) (10.3.2.106)\n",
      "Requirement already satisfied: nvidia-cusolver-cu12==11.4.5.107 in /home/patrice/Documents/Etudes/CY-Tech/Ing2_Sem2_2023-2024/UE7_Projet_DataBattle_IA-Pau/ia-pau-data-battle-mars-2024/backend/venv/lib/python3.11/site-packages (from torch>=1.11.0->sentence_transformers) (11.4.5.107)\n",
      "Requirement already satisfied: nvidia-cusparse-cu12==12.1.0.106 in /home/patrice/Documents/Etudes/CY-Tech/Ing2_Sem2_2023-2024/UE7_Projet_DataBattle_IA-Pau/ia-pau-data-battle-mars-2024/backend/venv/lib/python3.11/site-packages (from torch>=1.11.0->sentence_transformers) (12.1.0.106)\n",
      "Requirement already satisfied: nvidia-nccl-cu12==2.19.3 in /home/patrice/Documents/Etudes/CY-Tech/Ing2_Sem2_2023-2024/UE7_Projet_DataBattle_IA-Pau/ia-pau-data-battle-mars-2024/backend/venv/lib/python3.11/site-packages (from torch>=1.11.0->sentence_transformers) (2.19.3)\n",
      "Requirement already satisfied: nvidia-nvtx-cu12==12.1.105 in /home/patrice/Documents/Etudes/CY-Tech/Ing2_Sem2_2023-2024/UE7_Projet_DataBattle_IA-Pau/ia-pau-data-battle-mars-2024/backend/venv/lib/python3.11/site-packages (from torch>=1.11.0->sentence_transformers) (12.1.105)\n",
      "Requirement already satisfied: triton==2.2.0 in /home/patrice/Documents/Etudes/CY-Tech/Ing2_Sem2_2023-2024/UE7_Projet_DataBattle_IA-Pau/ia-pau-data-battle-mars-2024/backend/venv/lib/python3.11/site-packages (from torch>=1.11.0->sentence_transformers) (2.2.0)\n",
      "Requirement already satisfied: nvidia-nvjitlink-cu12 in /home/patrice/Documents/Etudes/CY-Tech/Ing2_Sem2_2023-2024/UE7_Projet_DataBattle_IA-Pau/ia-pau-data-battle-mars-2024/backend/venv/lib/python3.11/site-packages (from nvidia-cusolver-cu12==11.4.5.107->torch>=1.11.0->sentence_transformers) (12.4.99)\n",
      "Requirement already satisfied: regex!=2019.12.17 in /home/patrice/Documents/Etudes/CY-Tech/Ing2_Sem2_2023-2024/UE7_Projet_DataBattle_IA-Pau/ia-pau-data-battle-mars-2024/backend/venv/lib/python3.11/site-packages (from transformers<5.0.0,>=4.32.0->sentence_transformers) (2023.12.25)\n",
      "Requirement already satisfied: tokenizers<0.19,>=0.14 in /home/patrice/Documents/Etudes/CY-Tech/Ing2_Sem2_2023-2024/UE7_Projet_DataBattle_IA-Pau/ia-pau-data-battle-mars-2024/backend/venv/lib/python3.11/site-packages (from transformers<5.0.0,>=4.32.0->sentence_transformers) (0.15.2)\n",
      "Requirement already satisfied: safetensors>=0.4.1 in /home/patrice/Documents/Etudes/CY-Tech/Ing2_Sem2_2023-2024/UE7_Projet_DataBattle_IA-Pau/ia-pau-data-battle-mars-2024/backend/venv/lib/python3.11/site-packages (from transformers<5.0.0,>=4.32.0->sentence_transformers) (0.4.2)\n",
      "Requirement already satisfied: joblib>=1.2.0 in /home/patrice/Documents/Etudes/CY-Tech/Ing2_Sem2_2023-2024/UE7_Projet_DataBattle_IA-Pau/ia-pau-data-battle-mars-2024/backend/venv/lib/python3.11/site-packages (from scikit-learn->sentence_transformers) (1.3.2)\n",
      "Requirement already satisfied: threadpoolctl>=2.0.0 in /home/patrice/Documents/Etudes/CY-Tech/Ing2_Sem2_2023-2024/UE7_Projet_DataBattle_IA-Pau/ia-pau-data-battle-mars-2024/backend/venv/lib/python3.11/site-packages (from scikit-learn->sentence_transformers) (3.4.0)\n",
      "Requirement already satisfied: MarkupSafe>=2.0 in /home/patrice/Documents/Etudes/CY-Tech/Ing2_Sem2_2023-2024/UE7_Projet_DataBattle_IA-Pau/ia-pau-data-battle-mars-2024/backend/venv/lib/python3.11/site-packages (from jinja2->torch>=1.11.0->sentence_transformers) (2.1.5)\n",
      "Requirement already satisfied: charset-normalizer<4,>=2 in /home/patrice/Documents/Etudes/CY-Tech/Ing2_Sem2_2023-2024/UE7_Projet_DataBattle_IA-Pau/ia-pau-data-battle-mars-2024/backend/venv/lib/python3.11/site-packages (from requests->huggingface-hub>=0.15.1->sentence_transformers) (3.3.2)\n",
      "Requirement already satisfied: idna<4,>=2.5 in /home/patrice/Documents/Etudes/CY-Tech/Ing2_Sem2_2023-2024/UE7_Projet_DataBattle_IA-Pau/ia-pau-data-battle-mars-2024/backend/venv/lib/python3.11/site-packages (from requests->huggingface-hub>=0.15.1->sentence_transformers) (3.6)\n",
      "Requirement already satisfied: urllib3<3,>=1.21.1 in /home/patrice/Documents/Etudes/CY-Tech/Ing2_Sem2_2023-2024/UE7_Projet_DataBattle_IA-Pau/ia-pau-data-battle-mars-2024/backend/venv/lib/python3.11/site-packages (from requests->huggingface-hub>=0.15.1->sentence_transformers) (2.2.1)\n",
      "Requirement already satisfied: certifi>=2017.4.17 in /home/patrice/Documents/Etudes/CY-Tech/Ing2_Sem2_2023-2024/UE7_Projet_DataBattle_IA-Pau/ia-pau-data-battle-mars-2024/backend/venv/lib/python3.11/site-packages (from requests->huggingface-hub>=0.15.1->sentence_transformers) (2024.2.2)\n",
      "Requirement already satisfied: mpmath>=0.19 in /home/patrice/Documents/Etudes/CY-Tech/Ing2_Sem2_2023-2024/UE7_Projet_DataBattle_IA-Pau/ia-pau-data-battle-mars-2024/backend/venv/lib/python3.11/site-packages (from sympy->torch>=1.11.0->sentence_transformers) (1.3.0)\n"
     ]
    }
   ],
   "source": [
    "!pip install -U sentence_transformers"
   ]
  },
  {
   "cell_type": "code",
   "execution_count": 113,
   "metadata": {},
   "outputs": [
    {
     "name": "stdout",
     "output_type": "stream",
     "text": [
      "      id_solution  \\\n",
      "0               2   \n",
      "1               3   \n",
      "2               4   \n",
      "3               5   \n",
      "4               6   \n",
      "...           ...   \n",
      "1095         1710   \n",
      "1096         1711   \n",
      "1097         1712   \n",
      "1098         1713   \n",
      "1099         1714   \n",
      "\n",
      "                                                                                                                                                                                                                                                                                                                                                                                                                                                                                                                                                                                                                                                                                                                                                                                                                                                                                                                                                                                                                                                                                                                                                                                                                                                                                                                                                              text_embedding  \n",
      "0                                   [-0.20141354, 0.07533819, 0.12881845, 0.038304336, 0.04396247, -0.18152085, -0.094018444, 0.03924337, -0.19530077, -0.07758649, -0.0048156977, -0.15630922, -0.10916018, -0.059011634, -0.016875796, -0.041472293, 0.09710666, 0.07209678, 0.15984438, -0.05321624, 0.25303745, 0.01770643, -0.08379585, 0.008545483, -0.021794813, 0.004516214, -0.121358745, 0.0033911737, 0.21429637, -0.020840032, -0.10047417, 0.06894672, -0.22815916, -0.001502268, 0.22853382, -0.31452507, 0.016386135, -0.11658044, -0.21715635, 0.03400729, -0.07098538, -0.14207476, 0.065164104, -0.02145402, -0.1072811, 0.07929714, 0.008436898, 0.064080186, -0.058926657, -0.23595169, 0.13234504, 0.028797891, -0.12209511, -0.083158575, -0.25639743, 0.0479936, 0.016034042, -0.15476161, -0.10298995, -0.07956588, 0.17922424, -0.01586824, -0.17303187, 0.03257013, 0.13697572, 0.058041915, 0.13345721, 0.12115958, 0.20147792, 0.06650677, -0.06626165, 0.13624446, -0.13123016, -0.09261624, -0.09074454, 0.09084718, 0.23018245, -0.0063672494, 0.042299017, 0.0002614837, 0.11697292, 0.119523674, -0.08005352, -0.034101255, -0.2502912, 0.017550252, -0.041310705, 0.009605527, 0.02138601, -0.07037164, 0.0040554376, -0.003871046, -0.2040101, 0.01576045, 0.041349888, 0.15257178, 0.006603278, -0.24360034, 0.2924571, 0.27238318, ...]  \n",
      "1                     [-0.16464837, 0.31387278, -0.024059737, 0.14426368, 0.18308868, -0.08450341, 0.046145607, 0.02381888, -0.2099546, -0.02185826, -0.096792065, -0.2181924, -0.03963191, -0.0925707, -0.055340305, 0.036665082, 0.07000847, 0.111448534, 0.10705317, -0.09429455, 0.16646713, -0.019838683, 0.03162592, -0.082469255, 0.040546466, -0.02294668, -0.10741046, -0.0042332807, 0.06689547, -0.059294004, -0.0137110725, -0.020895133, 0.15463015, 0.008595231, 0.092266284, -0.00016540289, -0.13470992, -0.05633204, -0.22917123, 0.19437061, -0.053707603, 0.013210324, -0.05842695, 0.042962495, 0.017258143, 0.048515797, -0.11635643, -0.09944481, -0.2224515, -0.19619755, 0.06249324, -0.053943243, -0.13756093, -0.018741058, -0.06389011, -0.07468591, -0.0008134302, -0.22916283, -0.06177834, -0.24253206, 0.12005518, -0.048110157, -0.3036799, -0.13723794, 0.24444926, 0.020027848, 0.06583959, 0.12870325, 0.066025786, 0.07668785, -0.052500978, 0.076087706, 0.0043500434, -0.08007071, -0.002865292, 0.15389128, 0.23013198, 0.0045965505, -0.023583839, -0.07116908, 0.1932412, -0.111190915, -0.07514748, -0.037525304, -0.1377532, 0.054158136, 0.14466548, 0.00094491494, 0.1335399, -0.007783865, -0.02163022, -0.047080312, -0.15684898, -0.10813981, 0.1018473, 0.12111417, 0.003536957, -0.17536563, 0.019056043, 0.38608173, ...]  \n",
      "2     [-0.12837383, 0.24491169, 0.026918361, 0.06698577, 0.109606266, -0.12135751, -0.044496033, -0.004959133, -0.03484986, -0.052549157, -0.01895968, 0.078838184, -0.017544733, -0.022946222, -0.047294967, -0.04372416, 0.108490154, 0.099998325, 0.015637066, -0.07298977, 0.12375088, -0.1253759, -0.040726066, -0.054224364, 0.008061884, 0.07253397, -0.052331857, -0.011262227, 0.10201268, -0.087738834, 0.017222615, -0.06057728, 0.05365366, 0.003025686, 0.15157466, -0.046313062, -0.064107984, -0.045984063, -0.15758428, 0.07073799, -0.1020316, -0.0072120335, -0.08002637, 0.06730258, 0.06984416, 0.018160228, -0.023690833, -0.047478702, -0.28422326, -0.010093104, -0.011476987, -0.056125905, 0.0012012457, -0.020512063, 0.034059826, 0.008272408, 0.101253495, -0.003948557, -0.003887601, -0.15991543, 0.104422376, -0.019789737, -0.23932394, -0.05818308, 0.045859125, 0.091427885, 0.0056081046, 0.10892207, 0.13429987, 0.24723253, -0.11135663, 0.041213952, -0.06652473, 0.0006878462, 0.016633201, 0.10589786, 0.013035758, -0.070459954, -0.05227466, -0.009323531, 0.16750096, -0.12269449, -0.16541049, -0.10848824, -0.108176164, 0.080071844, 0.15627493, -0.012653416, 0.07844973, -0.10180373, 0.059655007, 0.022150801, 0.04137856, -0.034141272, 0.037992213, 0.1306031, 0.010316699, -0.032675028, -0.0006402023, 0.11330665, ...]  \n",
      "3                                   [-0.1784349, 0.26444492, -0.03479548, -0.03726295, 0.01033474, -0.13536501, 0.119321465, 0.041188646, -0.13140517, 0.07852135, -0.06554501, 0.14562945, -0.09676119, -0.14892304, -0.17325036, -0.074521065, 0.035333943, 0.27220568, -0.017262166, -0.12030127, 0.20951737, -0.116989575, -0.07703135, -0.06433784, -0.16740595, 0.027032072, -0.13170366, -0.04392389, 0.2757103, -0.27553323, -0.02391453, 0.033189733, 0.05188855, -0.012320265, -0.03830095, -0.28808007, -0.013370185, -0.09810216, -0.22602446, 0.17550446, -0.119958796, 0.01520235, -0.054380883, 0.061288673, 0.013533261, 0.044650707, 0.08109368, -0.029293692, -0.34461784, -0.060673762, 0.18075883, -0.111623585, 0.13615803, -0.09341798, 0.0692949, -0.02740716, 0.1369472, 0.0338016, -0.052808266, -0.24094658, 0.10018768, -0.051927943, -0.28105107, -0.097823314, 0.033079986, -0.004796506, 0.103546746, 0.2720283, 0.25737384, 0.31068647, -0.12312444, 0.0075042024, -0.049218457, -0.038101297, 0.056497723, 0.09038531, -0.014390458, 0.03873034, 0.06636909, -0.08998644, 0.21163481, -0.08735525, -0.09494538, -0.15496795, -0.07378278, 0.16695853, 0.13354175, -0.10664595, 0.06761626, 0.024182685, 0.10762072, -0.050945353, 0.0039665294, -0.068154775, 0.14508541, 0.14550443, -0.1504687, -0.076039076, 0.09334272, 0.23884064, ...]  \n",
      "4                                  [-0.004546597, 0.29525974, -0.012627024, 0.03374203, 0.2386205, -0.15513581, 0.09868736, -0.014097585, -0.12669875, -0.081777364, -0.073725544, -0.057066496, -0.024641532, -0.026283443, -0.022196421, 0.051519513, 0.13675852, 0.15408577, -0.028216137, -0.090389006, 0.20931889, -0.0408903, -0.12716395, -0.061389234, -0.02575123, -0.026915224, -0.13712844, 0.016258884, 0.10515552, -0.103213005, -0.045483086, -0.13906376, 0.012645765, 0.01765404, 0.112587735, -0.09603917, -0.09038441, -0.06725581, -0.22715944, 0.06045522, -0.09465192, -0.09448039, -0.04557669, 0.05511358, -0.049121074, 0.033023223, 0.07095711, -0.0066043613, -0.18187967, -0.18657087, 0.1216603, -0.12397813, -0.059641622, 0.0035345117, -0.09486595, -0.063503586, 0.16354224, -0.24782573, -0.07139283, -0.2838857, 0.11372952, 0.081667095, -0.261534, -0.009954428, 0.08379276, 0.14074029, 0.024301218, 0.23019148, 0.1548729, 0.1203634, -0.115159586, 0.10777876, 0.0032287342, -0.016271103, 0.0075479546, 0.13820876, 0.06584725, -0.133002, -0.04097014, 0.024818392, 0.1897543, -0.16444828, -0.12579995, -0.1037753, -0.17091203, 0.17272124, 0.09381935, -0.065780595, 0.04447452, -0.07199268, -0.06759782, 0.05564763, -0.124551624, 0.03225363, 0.009884359, 0.05033899, -0.08621214, -0.14908525, 0.08304763, 0.27977875, ...]  \n",
      "...                                                                                                                                                                                                                                                                                                                                                                                                                                                                                                                                                                                                                                                                                                                                                                                                                                                                                                                                                                                                                                                                                                                                                                                                                                                                                                                                                                      ...  \n",
      "1095                                                    [-0.054546975, 0.2413893, -0.39261952, -0.3271586, 0.025981102, -0.007544771, -0.39802423, 0.109461166, 0.022771295, 0.3646653, -0.099709414, 0.28308472, 0.32585883, -0.24614467, 0.090876184, -0.08849449, 0.2215716, 0.2512348, 0.009835447, -0.08347814, 0.18893974, 0.0033287278, 0.19560862, -0.11240597, -0.17395398, -0.17585178, -0.37879568, -0.04080688, -0.022147289, -0.4183366, 0.14092354, 0.086488895, 0.36007765, 0.21251307, -0.014252984, -0.07845181, 0.00701346, 0.11351959, -0.020548584, -0.040487774, 0.09194022, -0.20581447, -0.17449161, 0.13705637, -0.13347153, -0.23469423, -0.25316224, 0.16609423, -0.27957985, 0.08621683, -0.04953282, -0.14995734, -0.24271461, 0.3330287, -0.26044968, 0.028022293, 0.035806723, 0.3711163, -0.04454137, 0.0005850941, 0.01488631, 0.020929072, -0.44672856, 0.45519522, 0.13659784, 0.28183177, -0.28395677, 0.58925825, -0.25210884, 0.13742986, -0.21524636, -0.15513764, -0.13264851, 0.26043323, 0.07051645, -0.2044783, -0.28391626, -0.17586897, 0.046435088, 0.070286125, 0.25483918, 0.14580831, 0.004704632, 0.06944252, -0.27827558, -0.2190927, 0.19731888, -0.07586708, -0.20684235, -0.36207485, 0.050821967, 0.13516642, 0.24616352, 0.12575036, -0.28730467, -0.056423746, -0.06821237, -0.22327988, 0.51804405, 0.9023067, ...]  \n",
      "1096                            [-0.16795848, 0.28721672, 0.1260223, 0.27053434, -0.021844849, -0.05339409, -0.03418581, -0.16161375, -0.26431397, -0.23508823, -0.340594, -0.04096431, -0.07924413, -0.42914367, -0.11069881, 0.04262895, 0.080427036, 0.19429864, 0.15780137, -0.15746616, 0.18244812, 0.16863847, -0.28331533, -0.14756514, 0.025576051, -0.12738584, -0.033869814, 0.11700441, 0.002839694, -0.117438726, -0.010586633, -0.13496695, -0.2882464, 0.06909513, 0.39747614, -0.36815614, -0.16017108, -0.12092561, -0.14213996, 0.055995684, 0.004718269, -0.33073524, -0.00021671716, -0.055401526, -0.1353076, 0.13525523, -0.046466846, -0.15871751, -0.024293927, -0.10049045, 0.01990839, -0.12263105, -0.15468343, -0.02448209, 0.016470188, -0.24153277, 0.098253645, -0.15501496, -0.16737905, -0.52136266, 0.10599279, 0.17451379, -0.1794792, -0.12634659, -0.024237867, -0.041774172, 0.060956936, 0.12762406, 0.3737128, 0.044246174, -0.18636163, 0.198524, -0.046152562, -0.11100151, -0.012842952, 0.29188445, 0.08985032, 0.097888775, -0.121133484, -0.20450608, 0.23226412, 0.046385724, -0.22649147, -0.17189313, -0.16214237, 0.092185035, 0.31032354, -0.058582213, 0.20190413, -0.0065493337, -0.077024974, 0.05028298, -0.014195378, -0.109240375, 0.23265432, -0.11981864, -0.058864992, 0.119136386, 0.12987529, 0.041133683, ...]  \n",
      "1097                                                [0.26706222, 0.36741257, 0.0437402, 0.28713617, 0.113779396, 0.095514424, -0.106178455, -0.022498041, -0.18780221, 0.020223547, -0.11579443, -0.1427028, 0.0853146, -0.10556602, 0.26071525, 0.100492574, 0.020382063, 0.16091995, 0.12789696, -0.057832196, -0.031813182, -0.13228461, -0.14088368, -0.30867526, -0.12619713, -0.10740249, 0.08629633, 0.22809933, 0.0745781, -0.14603895, 0.04072427, -0.13937622, -0.11718996, 0.20567751, 0.32090914, 0.059613083, -0.17058572, -0.031105585, -0.11679378, 0.27845976, -0.06245016, -0.0777465, 0.09934188, 0.06362156, 0.05322939, 0.10429427, 0.08309399, -0.103410095, -0.06294697, -0.20315029, 0.09719191, -0.1108842, -0.24367395, -0.025563752, -0.19898224, 0.16187483, 0.036174383, -0.1638754, -0.18591183, -0.20449457, 0.27953997, 0.07264311, -0.33852014, -0.0731647, -0.12801357, -0.078799225, 0.022957688, 0.1716956, 0.1654983, 0.11006806, 0.017126245, 0.15323943, 0.035807725, -0.35518426, 0.07651362, 0.15318161, -0.079252176, 0.034879234, -0.023297263, -0.08607841, 0.1998643, -0.13967705, -0.13424271, -0.027845312, -0.2400787, 0.18672271, 0.26596892, -0.11658959, -0.09112218, -0.037524536, 0.24206066, -0.08446793, -0.056566954, -0.03155675, 0.21440484, -0.031917892, -0.089388736, -0.086516835, 0.12746221, 0.20321313, ...]  \n",
      "1098                                         [-0.074742734, 0.03005817, 0.01757752, -0.06682609, 0.15895914, -0.0013707604, 0.023133453, 0.012585143, 0.039078046, -0.08696897, 0.23776798, -0.10841651, -0.07171896, 0.16108897, -0.089765176, 0.1060556, 0.19743338, 0.15316774, 0.22934237, 0.30162424, 0.20798513, 0.0313821, 0.20813116, -0.06138631, -0.10110253, -0.09045271, -0.17946656, -0.05960412, -0.10258782, -0.20536804, -0.09055211, 0.02578032, 0.026264664, -0.038343847, 0.05080381, -0.039682187, 0.039967246, 0.049758274, -0.13852394, -0.15869455, -0.07262394, 0.13288777, 0.008968541, 0.12557878, -0.066768624, -0.13214138, -0.07499142, 0.030698365, 0.071697176, 0.08622892, -0.0785074, -0.29321697, -0.16761848, -0.25195748, -0.04488769, -0.2471257, -0.043715727, -0.05110242, -0.060950868, -0.034426156, 0.21461615, 0.018325282, -0.3695518, 0.13646288, 0.0060272245, -0.028057765, -0.11657176, 0.22515595, -0.14031115, 0.14915738, -0.072627895, 0.014796938, 0.07983222, 0.07062242, 0.072947085, -0.074623555, 0.16347739, -0.05410122, -0.16018069, -0.09702413, 0.17646755, -0.11629556, -0.17902306, 0.032267094, -0.08139077, 0.28830743, 0.038531832, 0.06695915, 0.15410177, 0.116739824, -0.15723814, -0.18178713, 0.23713478, -0.022967935, 0.2945733, 0.02204698, -0.064390145, -0.1193711, 0.25954935, 0.5709132, ...]  \n",
      "1099                                                                 [0.12063712, 0.31194404, 0.32102302, -0.2433703, 0.30998778, -0.26734704, 0.23751728, -0.09354425, -0.5863786, -0.053363256, 0.06971485, -0.25753233, -0.08522145, 0.17983706, -0.46110126, 0.13581498, 0.040082403, 0.14945807, 0.15223244, -0.00012840863, 0.3997763, 0.09132912, -0.07763047, -0.1035587, -0.10202823, 0.3396011, -0.18061264, -0.12949641, 0.19832703, -0.02917925, -0.14718951, -0.26828352, 0.009964027, -0.28904226, 0.16094545, 0.042125862, 0.12568505, -0.00831514, -0.07069313, -0.025320768, -0.0563715, -0.17886885, -0.16123547, 0.10314327, -0.31185645, 0.013339945, -0.30013332, 0.057942875, -0.27377874, -0.034166608, 0.41807318, -0.3416651, 0.014120433, -0.321874, -0.18157901, -0.06954442, 0.055870924, -0.18024018, -0.107765, -0.3881111, 0.21864365, 0.15671787, -0.18773775, 0.16182122, 0.25491154, 0.054272454, 0.08309338, 0.31240362, 0.1535343, 0.0019278516, 0.2730076, -0.022129172, 0.3606375, -0.27944133, -0.3134958, 0.19563067, 0.14494446, -0.07757107, -0.06357833, 0.031770956, 0.076851465, 0.029159028, 0.33260205, 0.19713816, 0.027863737, 0.2727255, -0.16317974, 0.09237676, 0.13544604, 0.061485168, -0.12851611, -0.082767665, -0.12624744, -0.23945451, 0.16844, 0.53151315, -0.3201283, -0.2726565, 0.09939076, -0.11398256, ...]  \n",
      "\n",
      "[1100 rows x 2 columns]\n"
     ]
    }
   ],
   "source": [
    "import pandas as pd\n",
    "from sentence_transformers import SentenceTransformer\n",
    "import numpy as np\n",
    "\n",
    "# Charger le modèle SentenceTransformer\n",
    "model = SentenceTransformer(\"paraphrase-multilingual-MiniLM-L12-v2\")\n",
    "\n",
    "# Fonction pour calculer l'embedding moyen d'un texte\n",
    "def calculate_average_embedding(text):\n",
    "    # Diviser le texte en phrases\n",
    "    sentences = [sentence.strip() for sentence in text.split('.') if sentence.strip()]\n",
    "    \n",
    "    # Calculer l'embedding de chaque phrase\n",
    "    sentence_embeddings = model.encode(sentences)\n",
    "    \n",
    "    # Prendre la moyenne des embeddings des phrases\n",
    "    if len(sentence_embeddings) > 0:\n",
    "        average_embedding = np.mean(sentence_embeddings, axis=0)\n",
    "    else:\n",
    "        average_embedding = np.zeros(model.get_sentence_embedding_dimension())\n",
    "    \n",
    "    return average_embedding\n",
    "\n",
    "# Appliquer la fonction à chaque texte dans df_final['text_pre_traite']\n",
    "embeddings = df_final['text_pre_traite'].apply(calculate_average_embedding)\n",
    "\n",
    "# Créer un nouveau DataFrame avec id_solution et les embeddings\n",
    "new_data = {\n",
    "    'id_solution': df_final['id_solution'],\n",
    "    'text_embedding': embeddings\n",
    "}\n",
    "\n",
    "# Créer un DataFrame à partir des nouvelles données\n",
    "df_embeddings = pd.DataFrame(new_data)\n",
    "\n",
    "# Afficher le DataFrame avec les embeddings\n",
    "print(df_embeddings)\n"
   ]
  },
  {
   "cell_type": "code",
   "execution_count": 121,
   "metadata": {},
   "outputs": [
    {
     "name": "stdout",
     "output_type": "stream",
     "text": [
      "Les 10 id_solution les plus proches :\n",
      "[3, 42, 867, 19, 922, 35, 354, 28, 918, 25]\n"
     ]
    }
   ],
   "source": [
    "from sentence_transformers import util\n",
    "\n",
    "# Texte à comparer (à remplacer par votre texte)\n",
    "text_to_compare = \"centrale negativ mode booster. installation centrale frigorifique bas moyenne temperatur mode booster consister injecter refoulement compresseur froid negatif aspiration compresseur cycle froid positif. maniere rendement cycle frigorifique bas temperature negatif grandement ameliore condensation bas temperature egal temperature evaporation central positif. solution diminuer quantite tuyauterie utilisee. solution applicable uniquement projet neuf projet refonte total systeme production froid. eligibl production froid niveau temperature. production froid positif temperature consigne 0c temperature evaporation cote fluide -10c exemple. production froid negatif temperature consigne bien inferieur 0c temperature evaporation c exemple. besoin froid positif superieur besoin froid negatif. niveau temperature exempe retrouve secteur activite grande moyenne surface distribution alimentaire gms. industrie agroalimentaire. chimie pharmacie.\"\n",
    "\n",
    "# Calculer l'embedding moyen du texte à comparer\n",
    "embedding_to_compare = calculate_average_embedding(text_to_compare)\n",
    "\n",
    "# Calculer la similarité cosinus entre l'embedding à comparer et les embeddings dans df_embeddings\n",
    "similarities = util.pytorch_cos_sim(embedding_to_compare.reshape(1, -1), df_embeddings['text_embedding'].values.tolist())\n",
    "\n",
    "# Ajouter les similarités au DataFrame df_embeddings\n",
    "df_embeddings['similarity'] = similarities.flatten()\n",
    "\n",
    "# Trier par similarité décroissante\n",
    "df_sorted = df_embeddings.sort_values(by='similarity', ascending=False)\n",
    "\n",
    "# Récupérer les 10 id_solution les plus proches\n",
    "top_10_similar_ids = df_sorted['id_solution'].head(10).tolist()\n",
    "\n",
    "# Afficher les 10 id_solution les plus proches\n",
    "print(\"Les 10 id_solution les plus proches :\")\n",
    "print(top_10_similar_ids)\n"
   ]
  },
  {
   "cell_type": "markdown",
   "metadata": {},
   "source": [
    "### Génération et sauvegarde des embeddings + Voir Quantization des embeddings"
   ]
  },
  {
   "cell_type": "markdown",
   "metadata": {},
   "source": [
    "### Test find_solution()"
   ]
  },
  {
   "cell_type": "markdown",
   "metadata": {},
   "source": [
    "## 2. Génération test set \n",
    "\n",
    "En utilisant GPT4, prendre des lots de 20 solutions, générer doaine d'activité et description de ce qu'un utilisateur pourrait demander. En générer 3 ou 4 par solutions avec différents niveau de précision. Le faire pour une centaine de solutions.\n",
    "\n",
    "On aurrait donc X = [description, domaine_activitée], y = [num_solution ].\n",
    "\n",
    "Pour tester notre modèle on peut tenter de lui faire prédire les meilleures solutions en fonction de la description et du domaine_activitée. Si la solution correspondante est dans le top 3 des solutions prédites, on considère que c'est une réussite."
   ]
  },
  {
   "cell_type": "markdown",
   "metadata": {},
   "source": []
  },
  {
   "cell_type": "markdown",
   "metadata": {},
   "source": [
    "# 3. Modèles à tester\n",
    "\n",
    "\n",
    "TF-IDF (c'est long et peu performant mais méthode sans embedding. On peut en parler dans Questionnaire et dire qu'on ne l'a pas implémenté car peu pertinent suivant les études qu'on a lu.)\n",
    "\n",
    "FastText (on a un token par mot et on fait la moyenne pour avoir le texte)\n",
    "\n",
    "Sentence transformers (un token par phrase et on fait la moyenne pour avoir le texte)\n",
    "\n",
    "Doc2Vec (document lvl)\n"
   ]
  }
 ],
 "metadata": {
  "kernelspec": {
   "display_name": "venv",
   "language": "python",
   "name": "python3"
  },
  "language_info": {
   "codemirror_mode": {
    "name": "ipython",
    "version": 3
   },
   "file_extension": ".py",
   "mimetype": "text/x-python",
   "name": "python",
   "nbconvert_exporter": "python",
   "pygments_lexer": "ipython3",
   "version": "3.11.8"
  }
 },
 "nbformat": 4,
 "nbformat_minor": 2
}
